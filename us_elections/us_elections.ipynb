{
 "cells": [
  {
   "cell_type": "code",
   "execution_count": 35,
   "metadata": {},
   "outputs": [],
   "source": [
    "import polars as pl\n",
    "import plotly.express as px\n",
    "import plotly.io as pio\n",
    "pl.Config(tbl_rows = -1, tbl_cols = -1, fmt_str_lengths = 1000, tbl_width_chars = 1000)\n",
    "pio.templates.default = \"plotly_white\""
   ]
  },
  {
   "cell_type": "code",
   "execution_count": 36,
   "metadata": {},
   "outputs": [],
   "source": [
    "# read the csv data into a polars dataframe\n",
    "df = pl.read_csv(\"1976-2020-president.csv\", ignore_errors = True)"
   ]
  },
  {
   "cell_type": "code",
   "execution_count": 37,
   "metadata": {},
   "outputs": [
    {
     "name": "stdout",
     "output_type": "stream",
     "text": [
      "shape: (12, 7)\n",
      "┌──────┬──────────┬──────────┬──────────────────┬────────────────┬──────────────────┬──────────────────┐\n",
      "│ year ┆ state    ┆ state_po ┆ candidate        ┆ candidatevotes ┆ party_simplified ┆ party_detailed   │\n",
      "│ ---  ┆ ---      ┆ ---      ┆ ---              ┆ ---            ┆ ---              ┆ ---              │\n",
      "│ i64  ┆ str      ┆ str      ┆ str              ┆ i64            ┆ str              ┆ str              │\n",
      "╞══════╪══════════╪══════════╪══════════════════╪════════════════╪══════════════════╪══════════════════╡\n",
      "│ 2016 ┆ NEW YORK ┆ NY       ┆                  ┆ 12816          ┆ OTHER            ┆                  │\n",
      "│ 2016 ┆ NEW YORK ┆ NY       ┆ BLANK VOTE       ┆ 77179          ┆ OTHER            ┆                  │\n",
      "│ 2016 ┆ NEW YORK ┆ NY       ┆ CLINTON, HILLARY ┆ 4379789        ┆ DEMOCRAT         ┆ DEMOCRAT         │\n",
      "│ 2016 ┆ NEW YORK ┆ NY       ┆ CLINTON, HILLARY ┆ 140041         ┆ OTHER            ┆ WORKING FAMILIES │\n",
      "│ 2016 ┆ NEW YORK ┆ NY       ┆ CLINTON, HILLARY ┆ 36294          ┆ OTHER            ┆ WOMEN'S EQUALITY │\n",
      "│ 2016 ┆ NEW YORK ┆ NY       ┆ JOHNSON, GARY    ┆ 119156         ┆ OTHER            ┆ INDEPENDENCE     │\n",
      "│ 2016 ┆ NEW YORK ┆ NY       ┆ JOHNSON, GARY    ┆ 57442          ┆ LIBERTARIAN      ┆ LIBERTARIAN      │\n",
      "│ 2016 ┆ NEW YORK ┆ NY       ┆ SCATTERING       ┆ 48447          ┆ OTHER            ┆                  │\n",
      "│ 2016 ┆ NEW YORK ┆ NY       ┆ STEIN, JILL      ┆ 107934         ┆ OTHER            ┆ GREEN            │\n",
      "│ 2016 ┆ NEW YORK ┆ NY       ┆ TRUMP, DONALD J. ┆ 2527142        ┆ REPUBLICAN       ┆ REPUBLICAN       │\n",
      "│ 2016 ┆ NEW YORK ┆ NY       ┆ TRUMP, DONALD J. ┆ 292392         ┆ OTHER            ┆ CONSERVATIVE     │\n",
      "│ 2016 ┆ NEW YORK ┆ NY       ┆ VOID VOTE        ┆ 3452           ┆ OTHER            ┆                  │\n",
      "└──────┴──────────┴──────────┴──────────────────┴────────────────┴──────────────────┴──────────────────┘\n"
     ]
    }
   ],
   "source": [
    "# some candidates appear under multiple parties\n",
    "# for example, Clinton, Johnson, and Trump all appear under multiple parties in New York in 2016\n",
    "print(\n",
    "    df.filter((pl.col(\"year\") == 2016) & (pl.col(\"state_po\") == \"NY\")). \\\n",
    "        select([pl.col(col) for col in [\"year\", \"state\", \"state_po\", \"candidate\", \"candidatevotes\", \"party_simplified\", \"party_detailed\"]]). \\\n",
    "        sort(\"candidate\")\n",
    ")"
   ]
  },
  {
   "cell_type": "code",
   "execution_count": 38,
   "metadata": {},
   "outputs": [],
   "source": [
    "# clean the data \n",
    "# group by year, state, and candidate \n",
    "# find the sum of votes received by each candidate for each year and state\n",
    "# find the total number of votes cast for all candidates for each year and state\n",
    "# find the party of each candidate using case/when statements because candidates can appear under multiple parties\n",
    "df = df.group_by([\"year\", \"state\", \"state_po\", \"candidate\"]).agg([\n",
    "    pl.col(\"candidatevotes\").sum().alias(\"candidatevotes\"),\n",
    "    pl.col(\"totalvotes\").max().alias(\"totalvotes\"),\n",
    "    (pl.col(\"candidatevotes\").sum() / pl.col(\"totalvotes\").max()).alias(\"candidatevotes_prop\"),\n",
    "    pl.when(\n",
    "        (pl.col(\"party_simplified\") == \"REPUBLICAN\").sum() > 0\n",
    "    ).then(pl.lit(\"REPUBLICAN\")).when(\n",
    "        (pl.col(\"party_simplified\") == \"DEMOCRAT\").sum() > 0\n",
    "    ).then(pl.lit(\"DEMOCRAT\")).otherwise(pl.lit(\"OTHER\")).alias(\"party_simplified\")\n",
    "])"
   ]
  },
  {
   "cell_type": "code",
   "execution_count": 39,
   "metadata": {},
   "outputs": [],
   "source": [
    "group_var = [\"year\", \"state\", \"state_po\"]\n",
    "state_group_var = [\"state\", \"state_po\"]\n",
    "# find the proportion of libertarian or other votes for each state and year\n",
    "other_party_prop_df = df.filter(pl.col(\"party_simplified\") == \"OTHER\"). \\\n",
    "    group_by(group_var). \\\n",
    "    agg(pl.col(\"candidatevotes_prop\").sum().alias(\"candidatevotes_prop\")).\\\n",
    "    sort(group_var)\n",
    "# find the proportion of republican votes (compared to democrat votes) for each state and year\n",
    "rep_party_prop_df = df.join(other = df.filter(pl.col(\"party_simplified\") != \"OTHER\").group_by(group_var).agg(pl.col(\"candidatevotes\").sum().alias(\"totalvotes_no_other\")), on = group_var). \\\n",
    "    filter(pl.col(\"party_simplified\") == \"REPUBLICAN\"). \\\n",
    "    with_columns((pl.col(\"candidatevotes\") / pl.col(\"totalvotes_no_other\")).alias(\"candidatevotes_prop_no_other\")). \\\n",
    "    sort(group_var)\n",
    "# find the difference between the maximum and minimum proportions of republican votes for each state (over all years)\n",
    "rep_party_prop_diff_df = rep_party_prop_df.group_by(state_group_var). \\\n",
    "    agg(pl.col(\"candidatevotes_prop\").min().alias(\"prop_min\")). \\\n",
    "    join(rep_party_prop_df.group_by(state_group_var).agg(pl.col(\"candidatevotes_prop\").max().alias(\"prop_max\")), on = state_group_var). \\\n",
    "    with_columns((pl.col(\"prop_max\") - pl.col(\"prop_min\")).alias(\"candidatevotes_prop_diff\")). \\\n",
    "    sort(\"candidatevotes_prop_diff\", descending = True)\n",
    "# find the states with the largest differences between the maxmimum and minimum proportions of republican votes\n",
    "top_diff_states = list(rep_party_prop_diff_df.top_k(10, by = \"candidatevotes_prop_diff\")[\"state_po\"])\n",
    "# find the third party candidates that received at least 3% of the vote\n",
    "third_party_df = df.filter((pl.col(\"party_simplified\") == \"OTHER\") & (pl.col(\"candidatevotes_prop\") >= 0.03) & ~(pl.col(\"candidate\").is_in([\"\", \"OTHER\", \"NONE OF THE ABOVE\", \"BLANK VOTE\", \"NOT DESIGNATED\"])))"
   ]
  },
  {
   "cell_type": "code",
   "execution_count": 40,
   "metadata": {},
   "outputs": [
    {
     "name": "stderr",
     "output_type": "stream",
     "text": [
      "C:\\Users\\lesch\\AppData\\Local\\Packages\\PythonSoftwareFoundation.Python.3.12_qbz5n2kfra8p0\\LocalCache\\local-packages\\Python312\\site-packages\\plotly\\express\\_core.py:2065: FutureWarning:\n",
      "\n",
      "When grouping with a length-1 list-like, you will need to pass a length-1 tuple to get_group in a future version of pandas. Pass `(name,)` instead of `name` to silence this warning.\n",
      "\n"
     ]
    },
    {
     "data": {
      "application/vnd.plotly.v1+json": {
       "config": {
        "plotlyServerURL": "https://plot.ly"
       },
       "data": [
        {
         "coloraxis": "coloraxis",
         "geo": "geo",
         "geojson": "https://raw.githubusercontent.com/plotly/datasets/master/geojson-counties-fips.json",
         "hovertemplate": "Election Year=1976<br>State=%{location}<br>Proportion Republican=%{z}<extra></extra>",
         "locationmode": "USA-states",
         "locations": [
          "AL",
          "AK",
          "AZ",
          "AR",
          "CA",
          "CO",
          "CT",
          "DE",
          "DC",
          "FL",
          "GA",
          "HI",
          "ID",
          "IL",
          "IN",
          "IA",
          "KS",
          "KY",
          "LA",
          "ME",
          "MD",
          "MA",
          "MI",
          "MN",
          "MS",
          "MO",
          "MT",
          "NE",
          "NV",
          "NH",
          "NJ",
          "NM",
          "NY",
          "NC",
          "ND",
          "OH",
          "OK",
          "OR",
          "PA",
          "RI",
          "SC",
          "SD",
          "TN",
          "TX",
          "UT",
          "VT",
          "VA",
          "WA",
          "WV",
          "WI",
          "WY"
         ],
         "name": "",
         "type": "choropleth",
         "z": [
          0.43333276022145045,
          0.6189182877358083,
          0.5861330301689619,
          0.34951148521800846,
          0.5091782730681821,
          0.5590754383161465,
          0.5261001670621348,
          0.47269861910687605,
          0.16822277613147366,
          0.473197981279208,
          0.3306170514068258,
          0.4871736876170062,
          0.6173299062594496,
          0.510028337436394,
          0.5384877780769483,
          0.5051616585315235,
          0.5387554076253813,
          0.4634597135335653,
          0.47040424852119334,
          0.5043117889709539,
          0.46964580076563617,
          0.4188537782889406,
          0.5274377404986998,
          0.433580180280289,
          0.490321114712467,
          0.4815809287424124,
          0.5378434614598622,
          0.6062645144739685,
          0.5226939592881622,
          0.5573925295281492,
          0.511006684739507,
          0.5124476751654883,
          0.4777541238537404,
          0.44446707501535054,
          0.5303801050517322,
          0.4988364540335138,
          0.506152205166257,
          0.5008717317692033,
          0.486428609078264,
          0.4432762268119398,
          0.4343389095508409,
          0.5074303436680477,
          0.4342705541946833,
          0.4840149677162289,
          0.6498005838259445,
          0.5633863681005696,
          0.5068641885546367,
          0.5202029356779516,
          0.4193048135466766,
          0.4913835633250033,
          0.5983440460517825
         ]
        }
       ],
       "frames": [
        {
         "data": [
          {
           "coloraxis": "coloraxis",
           "geo": "geo",
           "geojson": "https://raw.githubusercontent.com/plotly/datasets/master/geojson-counties-fips.json",
           "hovertemplate": "Election Year=1976<br>State=%{location}<br>Proportion Republican=%{z}<extra></extra>",
           "locationmode": "USA-states",
           "locations": [
            "AL",
            "AK",
            "AZ",
            "AR",
            "CA",
            "CO",
            "CT",
            "DE",
            "DC",
            "FL",
            "GA",
            "HI",
            "ID",
            "IL",
            "IN",
            "IA",
            "KS",
            "KY",
            "LA",
            "ME",
            "MD",
            "MA",
            "MI",
            "MN",
            "MS",
            "MO",
            "MT",
            "NE",
            "NV",
            "NH",
            "NJ",
            "NM",
            "NY",
            "NC",
            "ND",
            "OH",
            "OK",
            "OR",
            "PA",
            "RI",
            "SC",
            "SD",
            "TN",
            "TX",
            "UT",
            "VT",
            "VA",
            "WA",
            "WV",
            "WI",
            "WY"
           ],
           "name": "",
           "type": "choropleth",
           "z": [
            0.43333276022145045,
            0.6189182877358083,
            0.5861330301689619,
            0.34951148521800846,
            0.5091782730681821,
            0.5590754383161465,
            0.5261001670621348,
            0.47269861910687605,
            0.16822277613147366,
            0.473197981279208,
            0.3306170514068258,
            0.4871736876170062,
            0.6173299062594496,
            0.510028337436394,
            0.5384877780769483,
            0.5051616585315235,
            0.5387554076253813,
            0.4634597135335653,
            0.47040424852119334,
            0.5043117889709539,
            0.46964580076563617,
            0.4188537782889406,
            0.5274377404986998,
            0.433580180280289,
            0.490321114712467,
            0.4815809287424124,
            0.5378434614598622,
            0.6062645144739685,
            0.5226939592881622,
            0.5573925295281492,
            0.511006684739507,
            0.5124476751654883,
            0.4777541238537404,
            0.44446707501535054,
            0.5303801050517322,
            0.4988364540335138,
            0.506152205166257,
            0.5008717317692033,
            0.486428609078264,
            0.4432762268119398,
            0.4343389095508409,
            0.5074303436680477,
            0.4342705541946833,
            0.4840149677162289,
            0.6498005838259445,
            0.5633863681005696,
            0.5068641885546367,
            0.5202029356779516,
            0.4193048135466766,
            0.4913835633250033,
            0.5983440460517825
           ]
          }
         ],
         "name": "1976"
        },
        {
         "data": [
          {
           "coloraxis": "coloraxis",
           "geo": "geo",
           "geojson": "https://raw.githubusercontent.com/plotly/datasets/master/geojson-counties-fips.json",
           "hovertemplate": "Election Year=1980<br>State=%{location}<br>Proportion Republican=%{z}<extra></extra>",
           "locationmode": "USA-states",
           "locations": [
            "AL",
            "AK",
            "AZ",
            "AR",
            "CA",
            "CO",
            "CT",
            "DE",
            "DC",
            "FL",
            "GA",
            "HI",
            "ID",
            "IL",
            "IN",
            "IA",
            "KS",
            "KY",
            "LA",
            "ME",
            "MD",
            "MA",
            "MI",
            "MN",
            "MS",
            "MO",
            "MT",
            "NE",
            "NV",
            "NH",
            "NJ",
            "NM",
            "NY",
            "NC",
            "ND",
            "OH",
            "OK",
            "OR",
            "PA",
            "RI",
            "SC",
            "SD",
            "TN",
            "TX",
            "UT",
            "VT",
            "VA",
            "WA",
            "WV",
            "WI",
            "WY"
           ],
           "name": "",
           "type": "choropleth",
           "z": [
            0.5067633830703947,
            0.6729918564484112,
            0.682120868323351,
            0.5031970594292348,
            0.5946662455920947,
            0.639303402128646,
            0.5555719632271264,
            0.5126678525017742,
            0.15183269942166414,
            0.5905076294719691,
            0.4233760030754833,
            0.48915940764913096,
            0.7251322678733122,
            0.5433966238211096,
            0.5979732867014976,
            0.5706315027120836,
            0.6347548943852034,
            0.5071274560126958,
            0.5281088598859925,
            0.5190948343402336,
            0.483808619337815,
            0.5009067301685632,
            0.5354641089679841,
            0.477863854428132,
            0.5067833220354562,
            0.5356541434144342,
            0.6366524445429527,
            0.7158244512821914,
            0.6992732866300078,
            0.6706769237284803,
            0.5740914451463127,
            0.5990826674311105,
            0.5147147835110187,
            0.5109968262974457,
            0.7098070975212911,
            0.5573548501007461,
            0.633721332803691,
            0.5555259384357362,
            0.5386163586711663,
            0.43833944525464763,
            0.5063729327017845,
            0.6563345885809966,
            0.5014992246048541,
            0.5716734079381546,
            0.7796518504201592,
            0.5358930796239665,
            0.5681586052912446,
            0.570953460948888,
            0.4763021827987025,
            0.5259030857856029,
            0.6913262597812986
           ]
          }
         ],
         "name": "1980"
        },
        {
         "data": [
          {
           "coloraxis": "coloraxis",
           "geo": "geo",
           "geojson": "https://raw.githubusercontent.com/plotly/datasets/master/geojson-counties-fips.json",
           "hovertemplate": "Election Year=1984<br>State=%{location}<br>Proportion Republican=%{z}<extra></extra>",
           "locationmode": "USA-states",
           "locations": [
            "AL",
            "AK",
            "AZ",
            "AR",
            "CA",
            "CO",
            "CT",
            "DE",
            "DC",
            "FL",
            "GA",
            "HI",
            "ID",
            "IL",
            "IN",
            "IA",
            "KS",
            "KY",
            "LA",
            "ME",
            "MD",
            "MA",
            "MI",
            "MN",
            "MS",
            "MO",
            "MT",
            "NE",
            "NV",
            "NH",
            "NJ",
            "NM",
            "NY",
            "NC",
            "ND",
            "OH",
            "OK",
            "OR",
            "PA",
            "RI",
            "SC",
            "SD",
            "TN",
            "TX",
            "UT",
            "VT",
            "VA",
            "WA",
            "WV",
            "WI",
            "WY"
           ],
           "name": "",
           "type": "choropleth",
           "z": [
            0.6126339535131827,
            0.6905591264771639,
            0.6711672757000601,
            0.6122758810194409,
            0.5822453482219766,
            0.643657698356506,
            0.6099916876301803,
            0.5995367269919557,
            0.1385226605289924,
            0.6533241321354548,
            0.601978201481398,
            0.557037242176494,
            0.7327557119741499,
            0.5647325330722075,
            0.6207342912168372,
            0.5372382533002015,
            0.6702947711156966,
            0.6036418238945198,
            0.6141916116254215,
            0.6106911790060162,
            0.5275752719214463,
            0.5139833023725937,
            0.5954632499816858,
            0.4990910923180505,
            0.623150350589416,
            0.6002475066787704,
            0.61301398763687,
            0.71004753673293,
            0.6731568155478291,
            0.6893445225440569,
            0.6052139108149635,
            0.603495981291882,
            0.5401771895762791,
            0.6202786294988686,
            0.6573458238314767,
            0.5947068371906832,
            0.6910982584769896,
            0.5610471133933737,
            0.5370073147712165,
            0.5182973024492529,
            0.6411877941412378,
            0.6329951324356786,
            0.5818184809445299,
            0.6378630517301341,
            0.7512002100968175,
            0.586649107277791,
            0.6267568793921985,
            0.5684635101636629,
            0.5527243432459842,
            0.5462201570962173,
            0.7140039976207191
           ]
          }
         ],
         "name": "1984"
        },
        {
         "data": [
          {
           "coloraxis": "coloraxis",
           "geo": "geo",
           "geojson": "https://raw.githubusercontent.com/plotly/datasets/master/geojson-counties-fips.json",
           "hovertemplate": "Election Year=1988<br>State=%{location}<br>Proportion Republican=%{z}<extra></extra>",
           "locationmode": "USA-states",
           "locations": [
            "AL",
            "AK",
            "AZ",
            "AR",
            "CA",
            "CO",
            "CT",
            "DE",
            "DC",
            "FL",
            "GA",
            "HI",
            "ID",
            "IL",
            "IN",
            "IA",
            "KS",
            "KY",
            "LA",
            "ME",
            "MD",
            "MA",
            "MI",
            "MN",
            "MS",
            "MO",
            "MT",
            "NE",
            "NV",
            "NH",
            "NJ",
            "NM",
            "NY",
            "NC",
            "ND",
            "OH",
            "OK",
            "OR",
            "PA",
            "RI",
            "SC",
            "SD",
            "TN",
            "TX",
            "UT",
            "VT",
            "VA",
            "WA",
            "WV",
            "WI",
            "WY"
           ],
           "name": "",
           "type": "choropleth",
           "z": [
            0.5974556839808891,
            0.621633174342534,
            0.607434915309925,
            0.5719164271311511,
            0.5180731053637588,
            0.5395382438149715,
            0.5258115045643299,
            0.5624118959586928,
            0.14754247394343226,
            0.6125207164585159,
            0.6020361634476036,
            0.45193724019841075,
            0.6328782285063305,
            0.5104927699635886,
            0.6012599112493201,
            0.44851518859917494,
            0.5672750170218648,
            0.5585376781178855,
            0.5519129232394974,
            0.5577101870346831,
            0.5146443023111701,
            0.4601741106681304,
            0.5397804996005513,
            0.4644914007475596,
            0.6052108295518279,
            0.5199691168097722,
            0.5298818972138428,
            0.6055408549417141,
            0.6081858916458566,
            0.6323363272713388,
            0.5690115761353517,
            0.5250991574048536,
            0.4793140576317628,
            0.5815753786855,
            0.5659535572786767,
            0.5547406465025074,
            0.5838981227244167,
            0.4761631920240204,
            0.5116954699533774,
            0.4412212944668937,
            0.6207214556441831,
            0.5319237880858589,
            0.5821864050197078,
            0.5634633293113727,
            0.6738787483190072,
            0.5178171307672444,
            0.6035894605758241,
            0.49192288245414184,
            0.4762310680237943,
            0.4817653370543896,
            0.6142487642257731
           ]
          }
         ],
         "name": "1988"
        },
        {
         "data": [
          {
           "coloraxis": "coloraxis",
           "geo": "geo",
           "geojson": "https://raw.githubusercontent.com/plotly/datasets/master/geojson-counties-fips.json",
           "hovertemplate": "Election Year=1992<br>State=%{location}<br>Proportion Republican=%{z}<extra></extra>",
           "locationmode": "USA-states",
           "locations": [
            "AL",
            "AK",
            "AZ",
            "AR",
            "CA",
            "CO",
            "CT",
            "DE",
            "DC",
            "FL",
            "GA",
            "HI",
            "ID",
            "IL",
            "IN",
            "IA",
            "KS",
            "KY",
            "LA",
            "ME",
            "MD",
            "MA",
            "MI",
            "MN",
            "MS",
            "MO",
            "MT",
            "NE",
            "NV",
            "NH",
            "NJ",
            "NM",
            "NY",
            "NC",
            "ND",
            "OH",
            "OK",
            "OR",
            "PA",
            "RI",
            "SC",
            "SD",
            "TN",
            "TX",
            "UT",
            "VT",
            "VA",
            "WA",
            "WV",
            "WI",
            "WY"
           ],
           "name": "",
           "type": "choropleth",
           "z": [
            0.5382112645990298,
            0.5657426203867018,
            0.5130190398301194,
            0.4000773293387749,
            0.4148327123062092,
            0.4719793447717502,
            0.4587488329257332,
            0.4480200729527471,
            0.09702930380607265,
            0.5119684108958098,
            0.49657871548903365,
            0.432800222691787,
            0.5966148302115658,
            0.41411781787753205,
            0.5383489453393877,
            0.4626747088643786,
            0.5354105558761758,
            0.4813122230523395,
            0.47334862139584355,
            0.4394412713545169,
            0.4170009996078235,
            0.37907771328798434,
            0.45384840353028877,
            0.42278659775513644,
            0.5492848946738419,
            0.4349303389968644,
            0.482759428751247,
            0.6131173043233157,
            0.48175222480382274,
            0.492034486445505,
            0.48579681647906553,
            0.44857843230243594,
            0.40521652280508413,
            0.5045846427918671,
            0.5787470477290877,
            0.48831836653045485,
            0.5562211830261868,
            0.43366108483407184,
            0.44451470538984694,
            0.38156277181791826,
            0.5235684542724028,
            0.5226103376833865,
            0.4740196335292404,
            0.522421631658855,
            0.6375357911398033,
            0.39745798641493096,
            0.5255501293414344,
            0.42408298927488774,
            0.4223116191805925,
            0.4720549149788455,
            0.5379202342939657
           ]
          }
         ],
         "name": "1992"
        },
        {
         "data": [
          {
           "coloraxis": "coloraxis",
           "geo": "geo",
           "geojson": "https://raw.githubusercontent.com/plotly/datasets/master/geojson-counties-fips.json",
           "hovertemplate": "Election Year=1996<br>State=%{location}<br>Proportion Republican=%{z}<extra></extra>",
           "locationmode": "USA-states",
           "locations": [
            "AL",
            "AK",
            "AZ",
            "AR",
            "CA",
            "CO",
            "CT",
            "DE",
            "DC",
            "FL",
            "GA",
            "HI",
            "ID",
            "IL",
            "IN",
            "IA",
            "KS",
            "KY",
            "LA",
            "ME",
            "MD",
            "MA",
            "MI",
            "MN",
            "MS",
            "MO",
            "MT",
            "NE",
            "NV",
            "NH",
            "NJ",
            "NM",
            "NY",
            "NC",
            "ND",
            "OH",
            "OK",
            "OR",
            "PA",
            "RI",
            "SC",
            "SD",
            "TN",
            "TX",
            "UT",
            "VT",
            "VA",
            "WA",
            "WV",
            "WI",
            "WY"
           ],
           "name": "",
           "type": "choropleth",
           "z": [
            0.5373387115368894,
            0.6042850250583381,
            0.4877622884814574,
            0.4064717513524451,
            0.42783734769031057,
            0.5075920763022744,
            0.3963649311768726,
            0.41376343367430046,
            0.09876451791135743,
            0.46845038804893596,
            0.5063226919855417,
            0.3572384819175119,
            0.6079902757571594,
            0.4039490781454223,
            0.5314840635504565,
            0.4426661107626727,
            0.6007236554798414,
            0.4947094881565715,
            0.43439161728407855,
            0.37337879583144684,
            0.41361576513727616,
            0.31362174594584913,
            0.42675586633303225,
            0.4061931072862424,
            0.527472237545871,
            0.46452962523571845,
            0.5168741045072416,
            0.6055482250078303,
            0.4941346864475296,
            0.4438836828931079,
            0.40033206796687304,
            0.4597586943896841,
            0.33982504078884024,
            0.5252998666973464,
            0.5391131900584165,
            0.4640305081827946,
            0.5440060910670578,
            0.45306884280341775,
            0.44838794639167456,
            0.3099578661250159,
            0.5311197592198545,
            0.5193358539513447,
            0.48713357658139445,
            0.5266062338212227,
            0.6201948781925614,
            0.3681716961593798,
            0.5106059450706689,
            0.4280534715521872,
            0.4164533482389214,
            0.4408080333854982,
            0.5748791743489597
           ]
          }
         ],
         "name": "1996"
        },
        {
         "data": [
          {
           "coloraxis": "coloraxis",
           "geo": "geo",
           "geojson": "https://raw.githubusercontent.com/plotly/datasets/master/geojson-counties-fips.json",
           "hovertemplate": "Election Year=2000<br>State=%{location}<br>Proportion Republican=%{z}<extra></extra>",
           "locationmode": "USA-states",
           "locations": [
            "AL",
            "AK",
            "AZ",
            "AR",
            "CA",
            "CO",
            "CT",
            "DE",
            "DC",
            "FL",
            "GA",
            "HI",
            "ID",
            "IL",
            "IN",
            "IA",
            "KS",
            "KY",
            "LA",
            "ME",
            "MD",
            "MA",
            "MI",
            "MN",
            "MS",
            "MO",
            "MT",
            "NE",
            "NV",
            "NH",
            "NJ",
            "NM",
            "NY",
            "NC",
            "ND",
            "OH",
            "OK",
            "OR",
            "PA",
            "RI",
            "SC",
            "SD",
            "TN",
            "TX",
            "UT",
            "VT",
            "VA",
            "WA",
            "WV",
            "WI",
            "WY"
           ],
           "name": "",
           "type": "choropleth",
           "z": [
            0.5760694192133109,
            0.6793694856372919,
            0.5328259916713985,
            0.5280068951042081,
            0.43797010000928216,
            0.5448591994327903,
            0.4074434195114548,
            0.43259935214711553,
            0.0951230552222152,
            0.5000460940803355,
            0.5598375362290265,
            0.40172703719570657,
            0.7084849045574401,
            0.4381998968416041,
            0.5800478253258193,
            0.4983722081248183,
            0.6091690746352808,
            0.5772761526567658,
            0.5393924596634723,
            0.4725215845899958,
            0.4156770105754571,
            0.35210656239366184,
            0.473653935182659,
            0.4871358802418868,
            0.5860548483924629,
            0.5171194865675066,
            0.6365636197866972,
            0.6517948086208503,
            0.5185683849967243,
            0.506678001952188,
            0.4178859058327907,
            0.49968073970690857,
            0.36912114765758197,
            0.5646399698150305,
            0.6472739657061628,
            0.5183872222066608,
            0.6108067122211892,
            0.4976410801446944,
            0.4785152128319685,
            0.34350883932400683,
            0.5816210606765027,
            0.6161471257237386,
            0.5196286678517901,
            0.6095627014856294,
            0.7172550543132414,
            0.445596491032266,
            0.5414723630583325,
            0.4705522899059459,
            0.5324207401593741,
            0.49884931696842194,
            0.7098230564031704
           ]
          }
         ],
         "name": "2000"
        },
        {
         "data": [
          {
           "coloraxis": "coloraxis",
           "geo": "geo",
           "geojson": "https://raw.githubusercontent.com/plotly/datasets/master/geojson-counties-fips.json",
           "hovertemplate": "Election Year=2004<br>State=%{location}<br>Proportion Republican=%{z}<extra></extra>",
           "locationmode": "USA-states",
           "locations": [
            "AL",
            "AK",
            "AZ",
            "AR",
            "CA",
            "CO",
            "CT",
            "DE",
            "DC",
            "FL",
            "GA",
            "HI",
            "ID",
            "IL",
            "IN",
            "IA",
            "KS",
            "KY",
            "LA",
            "ME",
            "MD",
            "MA",
            "MI",
            "MN",
            "MS",
            "MO",
            "MT",
            "NE",
            "NV",
            "NH",
            "NJ",
            "NM",
            "NY",
            "NC",
            "ND",
            "OH",
            "OK",
            "OR",
            "PA",
            "RI",
            "SC",
            "SD",
            "TN",
            "TX",
            "UT",
            "VT",
            "VA",
            "WA",
            "WV",
            "WI",
            "WY"
           ],
           "name": "",
           "type": "choropleth",
           "z": [
            0.6289777135228225,
            0.6322628298124632,
            0.5527500503048827,
            0.5493574825166778,
            0.44958679547177544,
            0.5236622955824264,
            0.44725052439415874,
            0.46168493754908396,
            0.09479721352563932,
            0.5252367957566879,
            0.5835423269640956,
            0.4559555199706973,
            0.6932273818336431,
            0.4479136595044655,
            0.6042347624965846,
            0.5033667926271291,
            0.6286709878108223,
            0.6000761991547393,
            0.573309412692435,
            0.45416983589691395,
            0.43433660967507715,
            0.3725714448700811,
            0.48274155532034796,
            0.4823908938933105,
            0.5950500076962136,
            0.5361971266543984,
            0.6050007617566335,
            0.6684733725959471,
            0.513175957248615,
            0.49309711379862686,
            0.46629463681157796,
            0.5040033588635489,
            0.40712234295980115,
            0.5624197200184111,
            0.6390935414994329,
            0.510587440047892,
            0.6557040166475606,
            0.4789137422554992,
            0.4874171790293761,
            0.39422489424121865,
            0.586364582597492,
            0.6091329080109369,
            0.5718544545474072,
            0.6151019189710992,
            0.7334643916012205,
            0.39698997860748836,
            0.5413369671353006,
            0.46353462316547045,
            0.5647971062974548,
            0.4980819672573075,
            0.7031270317317171
           ]
          }
         ],
         "name": "2004"
        },
        {
         "data": [
          {
           "coloraxis": "coloraxis",
           "geo": "geo",
           "geojson": "https://raw.githubusercontent.com/plotly/datasets/master/geojson-counties-fips.json",
           "hovertemplate": "Election Year=2008<br>State=%{location}<br>Proportion Republican=%{z}<extra></extra>",
           "locationmode": "USA-states",
           "locations": [
            "AL",
            "AK",
            "AZ",
            "AR",
            "CA",
            "CO",
            "CT",
            "DE",
            "DC",
            "FL",
            "GA",
            "HI",
            "ID",
            "IL",
            "IN",
            "IA",
            "KS",
            "KY",
            "LA",
            "ME",
            "MD",
            "MA",
            "MI",
            "MN",
            "MS",
            "MO",
            "MT",
            "NE",
            "NV",
            "NH",
            "NJ",
            "NM",
            "NY",
            "NC",
            "ND",
            "OH",
            "OK",
            "OR",
            "PA",
            "RI",
            "SC",
            "SD",
            "TN",
            "TX",
            "UT",
            "VT",
            "VA",
            "WA",
            "WV",
            "WI",
            "WY"
           ],
           "name": "",
           "type": "choropleth",
           "z": [
            0.6089090275357267,
            0.610647849165971,
            0.5431390071961633,
            0.6017172061071726,
            0.3772155040841459,
            0.4544936530682658,
            0.3868166175024582,
            0.3736186135011144,
            0.06599231666584336,
            0.48580339969100705,
            0.5262833551081179,
            0.2700627412154459,
            0.6302458980502055,
            0.3726573595544064,
            0.49478046554621913,
            0.45151222210532654,
            0.5761227581890944,
            0.5823342758770461,
            0.5945717416158537,
            0.41170475016592395,
            0.37069912707114466,
            0.36802921786647047,
            0.4162869842384548,
            0.4477062500460726,
            0.5664193099286384,
            0.5006757914967664,
            0.5116940328394073,
            0.5760907442216564,
            0.43613261874803894,
            0.45131458879890496,
            0.4213537012857605,
            0.4233509998120241,
            0.36423318896873075,
            0.4983403669993269,
            0.5440865628196813,
            0.47666159237745875,
            0.656450811226935,
            0.4158627882277282,
            0.4477029618451555,
            0.35801862490854225,
            0.5454442918920913,
            0.5429570723411538,
            0.5763147180235446,
            0.5593593675094072,
            0.6452636137274007,
            0.311008182606619,
            0.46817415593872447,
            0.4124797319789105,
            0.5667374376713725,
            0.42944321752181586,
            0.6656202335509591
           ]
          }
         ],
         "name": "2008"
        },
        {
         "data": [
          {
           "coloraxis": "coloraxis",
           "geo": "geo",
           "geojson": "https://raw.githubusercontent.com/plotly/datasets/master/geojson-counties-fips.json",
           "hovertemplate": "Election Year=2012<br>State=%{location}<br>Proportion Republican=%{z}<extra></extra>",
           "locationmode": "USA-states",
           "locations": [
            "AL",
            "AK",
            "AZ",
            "AR",
            "CA",
            "CO",
            "CT",
            "DE",
            "DC",
            "FL",
            "GA",
            "HI",
            "ID",
            "IL",
            "IN",
            "IA",
            "KS",
            "KY",
            "LA",
            "ME",
            "MD",
            "MA",
            "MI",
            "MN",
            "MS",
            "MO",
            "MT",
            "NE",
            "NV",
            "NH",
            "NJ",
            "NM",
            "NY",
            "NC",
            "ND",
            "OH",
            "OK",
            "OR",
            "PA",
            "RI",
            "SC",
            "SD",
            "TN",
            "TX",
            "UT",
            "VT",
            "VA",
            "WA",
            "WV",
            "WI",
            "WY"
           ],
           "name": "",
           "type": "choropleth",
           "z": [
            0.6121622853343771,
            0.5731529048156038,
            0.5461338022370319,
            0.6215440535122961,
            0.3812718883670338,
            0.47252011685797485,
            0.41227422523092905,
            0.4055304508072184,
            0.07412350797882483,
            0.49557747860633766,
            0.5395664909805672,
            0.2829615149892558,
            0.6642138684357534,
            0.4142247660788309,
            0.5520037459732731,
            0.4704064807189982,
            0.6111332674525305,
            0.6154277239380491,
            0.5874682561411397,
            0.42140078606422887,
            0.3667827421309402,
            0.38214319250939993,
            0.45199467928822123,
            0.4605877353830181,
            0.5580189919878777,
            0.5477866675337997,
            0.5703423186388146,
            0.6112939026822536,
            0.46592457836653467,
            0.47166248021741897,
            0.4104803444941423,
            0.44704795353091303,
            0.3572407296333076,
            0.51034034903005,
            0.6011120828891173,
            0.48485943230750506,
            0.6677231974301656,
            0.43728832821252617,
            0.4726806599810817,
            0.3598325402111788,
            0.5530825470456537,
            0.5921849913819525,
            0.6035107152629404,
            0.5800789721510639,
            0.7462618889514748,
            0.3175274117360937,
            0.48032623311235517,
            0.42371701729378153,
            0.6367429763204273,
            0.4653657001712759,
            0.7116063401152143
           ]
          }
         ],
         "name": "2012"
        },
        {
         "data": [
          {
           "coloraxis": "coloraxis",
           "geo": "geo",
           "geojson": "https://raw.githubusercontent.com/plotly/datasets/master/geojson-counties-fips.json",
           "hovertemplate": "Election Year=2016<br>State=%{location}<br>Proportion Republican=%{z}<extra></extra>",
           "locationmode": "USA-states",
           "locations": [
            "AL",
            "AK",
            "AZ",
            "AR",
            "CA",
            "CO",
            "CT",
            "DE",
            "DC",
            "FL",
            "GA",
            "HI",
            "ID",
            "IL",
            "IN",
            "IA",
            "KS",
            "KY",
            "LA",
            "ME",
            "MD",
            "MA",
            "MI",
            "MN",
            "MS",
            "MO",
            "MT",
            "NE",
            "NV",
            "NH",
            "NJ",
            "NM",
            "NY",
            "NC",
            "ND",
            "OH",
            "OK",
            "OR",
            "PA",
            "RI",
            "SC",
            "SD",
            "TN",
            "TX",
            "UT",
            "VT",
            "VA",
            "WA",
            "WV",
            "WI",
            "WY"
           ],
           "name": "",
           "type": "choropleth",
           "z": [
            0.6437414359396074,
            0.5838565471106807,
            0.5150958668154976,
            0.6428513768977047,
            0.3387177945727012,
            0.47316666627317566,
            0.4285845248273636,
            0.4400137855631878,
            0.04304811658145916,
            0.5061883547277548,
            0.5266117259930322,
            0.32558662549464545,
            0.6831017668080558,
            0.4097994860928852,
            0.6011730952450807,
            0.5506354784512034,
            0.6111147034260667,
            0.6567062901750986,
            0.601716772378078,
            0.48403208870837466,
            0.3598900449143484,
            0.35348721310370507,
            0.5011766821696155,
            0.49168306292819514,
            0.5908984732406006,
            0.5981856099556606,
            0.6110966431702444,
            0.6354767411317757,
            0.487062905800148,
            0.49802971557619297,
            0.4271580985709871,
            0.4534920506567589,
            0.38227558815769386,
            0.5190374580371871,
            0.6980924289651974,
            0.5426768457713591,
            0.6930473723832813,
            0.43844161054945646,
            0.5037553580749017,
            0.41689295907340185,
            0.5746025636052402,
            0.6597185807943126,
            0.6362434304526199,
            0.5471322557797199,
            0.6238289834541129,
            0.34813573676179627,
            0.471736237228453,
            0.4121306879993523,
            0.7216105225129578,
            0.5040798903802971,
            0.7570531962915379
           ]
          }
         ],
         "name": "2016"
        },
        {
         "data": [
          {
           "coloraxis": "coloraxis",
           "geo": "geo",
           "geojson": "https://raw.githubusercontent.com/plotly/datasets/master/geojson-counties-fips.json",
           "hovertemplate": "Election Year=2020<br>State=%{location}<br>Proportion Republican=%{z}<extra></extra>",
           "locationmode": "USA-states",
           "locations": [
            "AL",
            "AK",
            "AZ",
            "AR",
            "CA",
            "CO",
            "CT",
            "DE",
            "DC",
            "FL",
            "GA",
            "HI",
            "ID",
            "IL",
            "IN",
            "IA",
            "KS",
            "KY",
            "LA",
            "ME",
            "MD",
            "MA",
            "MI",
            "MN",
            "MS",
            "MO",
            "MT",
            "NE",
            "NV",
            "NH",
            "NJ",
            "NM",
            "NY",
            "NC",
            "ND",
            "OH",
            "OK",
            "OR",
            "PA",
            "RI",
            "SC",
            "SD",
            "TN",
            "TX",
            "UT",
            "VT",
            "VA",
            "WA",
            "WV",
            "WI",
            "WY"
           ],
           "name": "",
           "type": "choropleth",
           "z": [
            0.6291137483335473,
            0.5526184872384932,
            0.49843168320870684,
            0.6421243327798315,
            0.3509108863933243,
            0.43061680507699845,
            0.39804950911922155,
            0.40373255835015526,
            0.05533046152380555,
            0.5169475466214156,
            0.49880670337091354,
            0.3496733535348512,
            0.6587714292507787,
            0.4134095626719308,
            0.5819504800744296,
            0.5418326308463706,
            0.5749342825563135,
            0.6320010290026297,
            0.5946444045629105,
            0.45329595417996027,
            0.3297095295290766,
            0.3288445045985185,
            0.4858644065559054,
            0.46360486351433333,
            0.5838498582738886,
            0.5783582064440145,
            0.5839718009204811,
            0.5978405224660173,
            0.48776882659956194,
            0.4625165227840496,
            0.4192871641320516,
            0.4448150984828026,
            0.38283165106987754,
            0.5068418253318673,
            0.6721740842289663,
            0.5407669764770272,
            0.6694003949690651,
            0.4169284301455827,
            0.49410794740650943,
            0.3940064011604074,
            0.559266087495821,
            0.634347798616815,
            0.6182777037206635,
            0.5283072123677953,
            0.6069360512185163,
            0.3170081344719344,
            0.4484531300060009,
            0.4007449681520931,
            0.6979853231392202,
            0.4968093673346601,
            0.724804343755851
           ]
          }
         ],
         "name": "2020"
        }
       ],
       "layout": {
        "coloraxis": {
         "cmid": 0.5,
         "colorbar": {
          "title": {
           "text": "Proportion Republican"
          }
         },
         "colorscale": [
          [
           0,
           "blue"
          ],
          [
           0.3,
           "blue"
          ],
          [
           0.5,
           "purple"
          ],
          [
           0.7,
           "red"
          ],
          [
           1,
           "red"
          ]
         ]
        },
        "geo": {
         "center": {},
         "domain": {
          "x": [
           0,
           1
          ],
          "y": [
           0,
           1
          ]
         },
         "scope": "usa"
        },
        "height": 600,
        "legend": {
         "tracegroupgap": 0
        },
        "sliders": [
         {
          "active": 0,
          "currentvalue": {
           "prefix": "Election Year="
          },
          "len": 0.9,
          "pad": {
           "b": 10,
           "t": 60
          },
          "steps": [
           {
            "args": [
             [
              "1976"
             ],
             {
              "frame": {
               "duration": 0,
               "redraw": true
              },
              "fromcurrent": true,
              "mode": "immediate",
              "transition": {
               "duration": 0,
               "easing": "linear"
              }
             }
            ],
            "label": "1976",
            "method": "animate"
           },
           {
            "args": [
             [
              "1980"
             ],
             {
              "frame": {
               "duration": 0,
               "redraw": true
              },
              "fromcurrent": true,
              "mode": "immediate",
              "transition": {
               "duration": 0,
               "easing": "linear"
              }
             }
            ],
            "label": "1980",
            "method": "animate"
           },
           {
            "args": [
             [
              "1984"
             ],
             {
              "frame": {
               "duration": 0,
               "redraw": true
              },
              "fromcurrent": true,
              "mode": "immediate",
              "transition": {
               "duration": 0,
               "easing": "linear"
              }
             }
            ],
            "label": "1984",
            "method": "animate"
           },
           {
            "args": [
             [
              "1988"
             ],
             {
              "frame": {
               "duration": 0,
               "redraw": true
              },
              "fromcurrent": true,
              "mode": "immediate",
              "transition": {
               "duration": 0,
               "easing": "linear"
              }
             }
            ],
            "label": "1988",
            "method": "animate"
           },
           {
            "args": [
             [
              "1992"
             ],
             {
              "frame": {
               "duration": 0,
               "redraw": true
              },
              "fromcurrent": true,
              "mode": "immediate",
              "transition": {
               "duration": 0,
               "easing": "linear"
              }
             }
            ],
            "label": "1992",
            "method": "animate"
           },
           {
            "args": [
             [
              "1996"
             ],
             {
              "frame": {
               "duration": 0,
               "redraw": true
              },
              "fromcurrent": true,
              "mode": "immediate",
              "transition": {
               "duration": 0,
               "easing": "linear"
              }
             }
            ],
            "label": "1996",
            "method": "animate"
           },
           {
            "args": [
             [
              "2000"
             ],
             {
              "frame": {
               "duration": 0,
               "redraw": true
              },
              "fromcurrent": true,
              "mode": "immediate",
              "transition": {
               "duration": 0,
               "easing": "linear"
              }
             }
            ],
            "label": "2000",
            "method": "animate"
           },
           {
            "args": [
             [
              "2004"
             ],
             {
              "frame": {
               "duration": 0,
               "redraw": true
              },
              "fromcurrent": true,
              "mode": "immediate",
              "transition": {
               "duration": 0,
               "easing": "linear"
              }
             }
            ],
            "label": "2004",
            "method": "animate"
           },
           {
            "args": [
             [
              "2008"
             ],
             {
              "frame": {
               "duration": 0,
               "redraw": true
              },
              "fromcurrent": true,
              "mode": "immediate",
              "transition": {
               "duration": 0,
               "easing": "linear"
              }
             }
            ],
            "label": "2008",
            "method": "animate"
           },
           {
            "args": [
             [
              "2012"
             ],
             {
              "frame": {
               "duration": 0,
               "redraw": true
              },
              "fromcurrent": true,
              "mode": "immediate",
              "transition": {
               "duration": 0,
               "easing": "linear"
              }
             }
            ],
            "label": "2012",
            "method": "animate"
           },
           {
            "args": [
             [
              "2016"
             ],
             {
              "frame": {
               "duration": 0,
               "redraw": true
              },
              "fromcurrent": true,
              "mode": "immediate",
              "transition": {
               "duration": 0,
               "easing": "linear"
              }
             }
            ],
            "label": "2016",
            "method": "animate"
           },
           {
            "args": [
             [
              "2020"
             ],
             {
              "frame": {
               "duration": 0,
               "redraw": true
              },
              "fromcurrent": true,
              "mode": "immediate",
              "transition": {
               "duration": 0,
               "easing": "linear"
              }
             }
            ],
            "label": "2020",
            "method": "animate"
           }
          ],
          "x": 0.1,
          "xanchor": "left",
          "y": 0,
          "yanchor": "top"
         }
        ],
        "template": {
         "data": {
          "bar": [
           {
            "error_x": {
             "color": "#2a3f5f"
            },
            "error_y": {
             "color": "#2a3f5f"
            },
            "marker": {
             "line": {
              "color": "white",
              "width": 0.5
             },
             "pattern": {
              "fillmode": "overlay",
              "size": 10,
              "solidity": 0.2
             }
            },
            "type": "bar"
           }
          ],
          "barpolar": [
           {
            "marker": {
             "line": {
              "color": "white",
              "width": 0.5
             },
             "pattern": {
              "fillmode": "overlay",
              "size": 10,
              "solidity": 0.2
             }
            },
            "type": "barpolar"
           }
          ],
          "carpet": [
           {
            "aaxis": {
             "endlinecolor": "#2a3f5f",
             "gridcolor": "#C8D4E3",
             "linecolor": "#C8D4E3",
             "minorgridcolor": "#C8D4E3",
             "startlinecolor": "#2a3f5f"
            },
            "baxis": {
             "endlinecolor": "#2a3f5f",
             "gridcolor": "#C8D4E3",
             "linecolor": "#C8D4E3",
             "minorgridcolor": "#C8D4E3",
             "startlinecolor": "#2a3f5f"
            },
            "type": "carpet"
           }
          ],
          "choropleth": [
           {
            "colorbar": {
             "outlinewidth": 0,
             "ticks": ""
            },
            "type": "choropleth"
           }
          ],
          "contour": [
           {
            "colorbar": {
             "outlinewidth": 0,
             "ticks": ""
            },
            "colorscale": [
             [
              0,
              "#0d0887"
             ],
             [
              0.1111111111111111,
              "#46039f"
             ],
             [
              0.2222222222222222,
              "#7201a8"
             ],
             [
              0.3333333333333333,
              "#9c179e"
             ],
             [
              0.4444444444444444,
              "#bd3786"
             ],
             [
              0.5555555555555556,
              "#d8576b"
             ],
             [
              0.6666666666666666,
              "#ed7953"
             ],
             [
              0.7777777777777778,
              "#fb9f3a"
             ],
             [
              0.8888888888888888,
              "#fdca26"
             ],
             [
              1,
              "#f0f921"
             ]
            ],
            "type": "contour"
           }
          ],
          "contourcarpet": [
           {
            "colorbar": {
             "outlinewidth": 0,
             "ticks": ""
            },
            "type": "contourcarpet"
           }
          ],
          "heatmap": [
           {
            "colorbar": {
             "outlinewidth": 0,
             "ticks": ""
            },
            "colorscale": [
             [
              0,
              "#0d0887"
             ],
             [
              0.1111111111111111,
              "#46039f"
             ],
             [
              0.2222222222222222,
              "#7201a8"
             ],
             [
              0.3333333333333333,
              "#9c179e"
             ],
             [
              0.4444444444444444,
              "#bd3786"
             ],
             [
              0.5555555555555556,
              "#d8576b"
             ],
             [
              0.6666666666666666,
              "#ed7953"
             ],
             [
              0.7777777777777778,
              "#fb9f3a"
             ],
             [
              0.8888888888888888,
              "#fdca26"
             ],
             [
              1,
              "#f0f921"
             ]
            ],
            "type": "heatmap"
           }
          ],
          "heatmapgl": [
           {
            "colorbar": {
             "outlinewidth": 0,
             "ticks": ""
            },
            "colorscale": [
             [
              0,
              "#0d0887"
             ],
             [
              0.1111111111111111,
              "#46039f"
             ],
             [
              0.2222222222222222,
              "#7201a8"
             ],
             [
              0.3333333333333333,
              "#9c179e"
             ],
             [
              0.4444444444444444,
              "#bd3786"
             ],
             [
              0.5555555555555556,
              "#d8576b"
             ],
             [
              0.6666666666666666,
              "#ed7953"
             ],
             [
              0.7777777777777778,
              "#fb9f3a"
             ],
             [
              0.8888888888888888,
              "#fdca26"
             ],
             [
              1,
              "#f0f921"
             ]
            ],
            "type": "heatmapgl"
           }
          ],
          "histogram": [
           {
            "marker": {
             "pattern": {
              "fillmode": "overlay",
              "size": 10,
              "solidity": 0.2
             }
            },
            "type": "histogram"
           }
          ],
          "histogram2d": [
           {
            "colorbar": {
             "outlinewidth": 0,
             "ticks": ""
            },
            "colorscale": [
             [
              0,
              "#0d0887"
             ],
             [
              0.1111111111111111,
              "#46039f"
             ],
             [
              0.2222222222222222,
              "#7201a8"
             ],
             [
              0.3333333333333333,
              "#9c179e"
             ],
             [
              0.4444444444444444,
              "#bd3786"
             ],
             [
              0.5555555555555556,
              "#d8576b"
             ],
             [
              0.6666666666666666,
              "#ed7953"
             ],
             [
              0.7777777777777778,
              "#fb9f3a"
             ],
             [
              0.8888888888888888,
              "#fdca26"
             ],
             [
              1,
              "#f0f921"
             ]
            ],
            "type": "histogram2d"
           }
          ],
          "histogram2dcontour": [
           {
            "colorbar": {
             "outlinewidth": 0,
             "ticks": ""
            },
            "colorscale": [
             [
              0,
              "#0d0887"
             ],
             [
              0.1111111111111111,
              "#46039f"
             ],
             [
              0.2222222222222222,
              "#7201a8"
             ],
             [
              0.3333333333333333,
              "#9c179e"
             ],
             [
              0.4444444444444444,
              "#bd3786"
             ],
             [
              0.5555555555555556,
              "#d8576b"
             ],
             [
              0.6666666666666666,
              "#ed7953"
             ],
             [
              0.7777777777777778,
              "#fb9f3a"
             ],
             [
              0.8888888888888888,
              "#fdca26"
             ],
             [
              1,
              "#f0f921"
             ]
            ],
            "type": "histogram2dcontour"
           }
          ],
          "mesh3d": [
           {
            "colorbar": {
             "outlinewidth": 0,
             "ticks": ""
            },
            "type": "mesh3d"
           }
          ],
          "parcoords": [
           {
            "line": {
             "colorbar": {
              "outlinewidth": 0,
              "ticks": ""
             }
            },
            "type": "parcoords"
           }
          ],
          "pie": [
           {
            "automargin": true,
            "type": "pie"
           }
          ],
          "scatter": [
           {
            "fillpattern": {
             "fillmode": "overlay",
             "size": 10,
             "solidity": 0.2
            },
            "type": "scatter"
           }
          ],
          "scatter3d": [
           {
            "line": {
             "colorbar": {
              "outlinewidth": 0,
              "ticks": ""
             }
            },
            "marker": {
             "colorbar": {
              "outlinewidth": 0,
              "ticks": ""
             }
            },
            "type": "scatter3d"
           }
          ],
          "scattercarpet": [
           {
            "marker": {
             "colorbar": {
              "outlinewidth": 0,
              "ticks": ""
             }
            },
            "type": "scattercarpet"
           }
          ],
          "scattergeo": [
           {
            "marker": {
             "colorbar": {
              "outlinewidth": 0,
              "ticks": ""
             }
            },
            "type": "scattergeo"
           }
          ],
          "scattergl": [
           {
            "marker": {
             "colorbar": {
              "outlinewidth": 0,
              "ticks": ""
             }
            },
            "type": "scattergl"
           }
          ],
          "scattermapbox": [
           {
            "marker": {
             "colorbar": {
              "outlinewidth": 0,
              "ticks": ""
             }
            },
            "type": "scattermapbox"
           }
          ],
          "scatterpolar": [
           {
            "marker": {
             "colorbar": {
              "outlinewidth": 0,
              "ticks": ""
             }
            },
            "type": "scatterpolar"
           }
          ],
          "scatterpolargl": [
           {
            "marker": {
             "colorbar": {
              "outlinewidth": 0,
              "ticks": ""
             }
            },
            "type": "scatterpolargl"
           }
          ],
          "scatterternary": [
           {
            "marker": {
             "colorbar": {
              "outlinewidth": 0,
              "ticks": ""
             }
            },
            "type": "scatterternary"
           }
          ],
          "surface": [
           {
            "colorbar": {
             "outlinewidth": 0,
             "ticks": ""
            },
            "colorscale": [
             [
              0,
              "#0d0887"
             ],
             [
              0.1111111111111111,
              "#46039f"
             ],
             [
              0.2222222222222222,
              "#7201a8"
             ],
             [
              0.3333333333333333,
              "#9c179e"
             ],
             [
              0.4444444444444444,
              "#bd3786"
             ],
             [
              0.5555555555555556,
              "#d8576b"
             ],
             [
              0.6666666666666666,
              "#ed7953"
             ],
             [
              0.7777777777777778,
              "#fb9f3a"
             ],
             [
              0.8888888888888888,
              "#fdca26"
             ],
             [
              1,
              "#f0f921"
             ]
            ],
            "type": "surface"
           }
          ],
          "table": [
           {
            "cells": {
             "fill": {
              "color": "#EBF0F8"
             },
             "line": {
              "color": "white"
             }
            },
            "header": {
             "fill": {
              "color": "#C8D4E3"
             },
             "line": {
              "color": "white"
             }
            },
            "type": "table"
           }
          ]
         },
         "layout": {
          "annotationdefaults": {
           "arrowcolor": "#2a3f5f",
           "arrowhead": 0,
           "arrowwidth": 1
          },
          "autotypenumbers": "strict",
          "coloraxis": {
           "colorbar": {
            "outlinewidth": 0,
            "ticks": ""
           }
          },
          "colorscale": {
           "diverging": [
            [
             0,
             "#8e0152"
            ],
            [
             0.1,
             "#c51b7d"
            ],
            [
             0.2,
             "#de77ae"
            ],
            [
             0.3,
             "#f1b6da"
            ],
            [
             0.4,
             "#fde0ef"
            ],
            [
             0.5,
             "#f7f7f7"
            ],
            [
             0.6,
             "#e6f5d0"
            ],
            [
             0.7,
             "#b8e186"
            ],
            [
             0.8,
             "#7fbc41"
            ],
            [
             0.9,
             "#4d9221"
            ],
            [
             1,
             "#276419"
            ]
           ],
           "sequential": [
            [
             0,
             "#0d0887"
            ],
            [
             0.1111111111111111,
             "#46039f"
            ],
            [
             0.2222222222222222,
             "#7201a8"
            ],
            [
             0.3333333333333333,
             "#9c179e"
            ],
            [
             0.4444444444444444,
             "#bd3786"
            ],
            [
             0.5555555555555556,
             "#d8576b"
            ],
            [
             0.6666666666666666,
             "#ed7953"
            ],
            [
             0.7777777777777778,
             "#fb9f3a"
            ],
            [
             0.8888888888888888,
             "#fdca26"
            ],
            [
             1,
             "#f0f921"
            ]
           ],
           "sequentialminus": [
            [
             0,
             "#0d0887"
            ],
            [
             0.1111111111111111,
             "#46039f"
            ],
            [
             0.2222222222222222,
             "#7201a8"
            ],
            [
             0.3333333333333333,
             "#9c179e"
            ],
            [
             0.4444444444444444,
             "#bd3786"
            ],
            [
             0.5555555555555556,
             "#d8576b"
            ],
            [
             0.6666666666666666,
             "#ed7953"
            ],
            [
             0.7777777777777778,
             "#fb9f3a"
            ],
            [
             0.8888888888888888,
             "#fdca26"
            ],
            [
             1,
             "#f0f921"
            ]
           ]
          },
          "colorway": [
           "#636efa",
           "#EF553B",
           "#00cc96",
           "#ab63fa",
           "#FFA15A",
           "#19d3f3",
           "#FF6692",
           "#B6E880",
           "#FF97FF",
           "#FECB52"
          ],
          "font": {
           "color": "#2a3f5f"
          },
          "geo": {
           "bgcolor": "white",
           "lakecolor": "white",
           "landcolor": "white",
           "showlakes": true,
           "showland": true,
           "subunitcolor": "#C8D4E3"
          },
          "hoverlabel": {
           "align": "left"
          },
          "hovermode": "closest",
          "mapbox": {
           "style": "light"
          },
          "paper_bgcolor": "white",
          "plot_bgcolor": "white",
          "polar": {
           "angularaxis": {
            "gridcolor": "#EBF0F8",
            "linecolor": "#EBF0F8",
            "ticks": ""
           },
           "bgcolor": "white",
           "radialaxis": {
            "gridcolor": "#EBF0F8",
            "linecolor": "#EBF0F8",
            "ticks": ""
           }
          },
          "scene": {
           "xaxis": {
            "backgroundcolor": "white",
            "gridcolor": "#DFE8F3",
            "gridwidth": 2,
            "linecolor": "#EBF0F8",
            "showbackground": true,
            "ticks": "",
            "zerolinecolor": "#EBF0F8"
           },
           "yaxis": {
            "backgroundcolor": "white",
            "gridcolor": "#DFE8F3",
            "gridwidth": 2,
            "linecolor": "#EBF0F8",
            "showbackground": true,
            "ticks": "",
            "zerolinecolor": "#EBF0F8"
           },
           "zaxis": {
            "backgroundcolor": "white",
            "gridcolor": "#DFE8F3",
            "gridwidth": 2,
            "linecolor": "#EBF0F8",
            "showbackground": true,
            "ticks": "",
            "zerolinecolor": "#EBF0F8"
           }
          },
          "shapedefaults": {
           "line": {
            "color": "#2a3f5f"
           }
          },
          "ternary": {
           "aaxis": {
            "gridcolor": "#DFE8F3",
            "linecolor": "#A2B1C6",
            "ticks": ""
           },
           "baxis": {
            "gridcolor": "#DFE8F3",
            "linecolor": "#A2B1C6",
            "ticks": ""
           },
           "bgcolor": "white",
           "caxis": {
            "gridcolor": "#DFE8F3",
            "linecolor": "#A2B1C6",
            "ticks": ""
           }
          },
          "title": {
           "x": 0.05
          },
          "xaxis": {
           "automargin": true,
           "gridcolor": "#EBF0F8",
           "linecolor": "#EBF0F8",
           "ticks": "",
           "title": {
            "standoff": 15
           },
           "zerolinecolor": "#EBF0F8",
           "zerolinewidth": 2
          },
          "yaxis": {
           "automargin": true,
           "gridcolor": "#EBF0F8",
           "linecolor": "#EBF0F8",
           "ticks": "",
           "title": {
            "standoff": 15
           },
           "zerolinecolor": "#EBF0F8",
           "zerolinewidth": 2
          }
         }
        },
        "title": {
         "text": "<b>Proportion of Votes for Republican Candidates (Compared to Democrat Candidates) by State and Election Year</b><br><i>US Presidential Elections 1976 - 2020</i>"
        },
        "updatemenus": [
         {
          "buttons": [
           {
            "args": [
             null,
             {
              "frame": {
               "duration": 500,
               "redraw": true
              },
              "fromcurrent": true,
              "mode": "immediate",
              "transition": {
               "duration": 500,
               "easing": "linear"
              }
             }
            ],
            "label": "&#9654;",
            "method": "animate"
           },
           {
            "args": [
             [
              null
             ],
             {
              "frame": {
               "duration": 0,
               "redraw": true
              },
              "fromcurrent": true,
              "mode": "immediate",
              "transition": {
               "duration": 0,
               "easing": "linear"
              }
             }
            ],
            "label": "&#9724;",
            "method": "animate"
           }
          ],
          "direction": "left",
          "pad": {
           "r": 10,
           "t": 70
          },
          "showactive": false,
          "type": "buttons",
          "x": 0.1,
          "xanchor": "right",
          "y": 0,
          "yanchor": "top"
         }
        ]
       }
      }
     },
     "metadata": {},
     "output_type": "display_data"
    }
   ],
   "source": [
    "px.choropleth(\n",
    "    data_frame = rep_party_prop_df,\n",
    "    geojson=\"https://raw.githubusercontent.com/plotly/datasets/master/geojson-counties-fips.json\",\n",
    "    locationmode = \"USA-states\",\n",
    "    locations = \"state_po\",\n",
    "    color = \"candidatevotes_prop_no_other\",\n",
    "    scope = \"usa\",\n",
    "    color_continuous_midpoint = 0.5,\n",
    "    color_continuous_scale = [(0, \"blue\"), (0.3, \"blue\"), (0.5, \"purple\"), (0.7, \"red\"), (1, \"red\")],\n",
    "    animation_frame = \"year\",\n",
    "    title = \"<b>Proportion of Votes for Republican Candidates (Compared to Democrat Candidates) by State and Election Year</b><br><i>US Presidential Elections 1976 - 2020</i>\",\n",
    "    labels = {\"candidatevotes_prop_no_other\": \"Proportion Republican\", \"year\": \"Election Year\", \"state_po\": \"State\"},\n",
    "    height = 600\n",
    ")"
   ]
  },
  {
   "cell_type": "code",
   "execution_count": 41,
   "metadata": {},
   "outputs": [
    {
     "name": "stderr",
     "output_type": "stream",
     "text": [
      "C:\\Users\\lesch\\AppData\\Local\\Packages\\PythonSoftwareFoundation.Python.3.12_qbz5n2kfra8p0\\LocalCache\\local-packages\\Python312\\site-packages\\plotly\\express\\_core.py:2065: FutureWarning:\n",
      "\n",
      "When grouping with a length-1 list-like, you will need to pass a length-1 tuple to get_group in a future version of pandas. Pass `(name,)` instead of `name` to silence this warning.\n",
      "\n"
     ]
    },
    {
     "data": {
      "application/vnd.plotly.v1+json": {
       "config": {
        "plotlyServerURL": "https://plot.ly"
       },
       "data": [
        {
         "hovertemplate": "State=ARIZONA<br>Election Year=%{x}<br>Proportion Republican=%{y}<extra></extra>",
         "legendgroup": "ARIZONA",
         "line": {
          "color": "rgb(95, 70, 144)",
          "dash": "solid"
         },
         "marker": {
          "symbol": "circle"
         },
         "mode": "lines+markers",
         "name": "ARIZONA",
         "orientation": "v",
         "showlegend": true,
         "type": "scatter",
         "x": [
          1976,
          1980,
          1984,
          1988,
          1992,
          1996,
          2000,
          2004,
          2008,
          2012,
          2016,
          2020
         ],
         "xaxis": "x",
         "y": [
          0.5636613577948053,
          0.6060884838290739,
          0.6642148285841561,
          0.5995026764845679,
          0.38473141781132836,
          0.4429441649666585,
          0.5102113816043696,
          0.5486943408601376,
          0.5363524782262724,
          0.536545331659747,
          0.4867161647232105,
          0.4905598103046474
         ],
         "yaxis": "y"
        },
        {
         "hovertemplate": "State=HAWAII<br>Election Year=%{x}<br>Proportion Republican=%{y}<extra></extra>",
         "legendgroup": "HAWAII",
         "line": {
          "color": "rgb(29, 105, 150)",
          "dash": "solid"
         },
         "marker": {
          "symbol": "circle"
         },
         "mode": "lines+markers",
         "name": "HAWAII",
         "orientation": "v",
         "showlegend": true,
         "type": "scatter",
         "x": [
          1976,
          1980,
          1984,
          1988,
          1992,
          1996,
          2000,
          2004,
          2008,
          2012,
          2016,
          2020
         ],
         "xaxis": "x",
         "y": [
          0.48061283689379714,
          0.42900618885741887,
          0.5509965877217534,
          0.44751044543687457,
          0.3669704593366627,
          0.3164028657114295,
          0.3746286869719066,
          0.45264595711551864,
          0.2643620193657031,
          0.2768214768539593,
          0.29439707172625573,
          0.3395471416941482
         ],
         "yaxis": "y"
        },
        {
         "hovertemplate": "State=IDAHO<br>Election Year=%{x}<br>Proportion Republican=%{y}<extra></extra>",
         "legendgroup": "IDAHO",
         "line": {
          "color": "rgb(56, 166, 165)",
          "dash": "solid"
         },
         "marker": {
          "symbol": "circle"
         },
         "mode": "lines+markers",
         "name": "IDAHO",
         "orientation": "v",
         "showlegend": true,
         "type": "scatter",
         "x": [
          1976,
          1980,
          1984,
          1988,
          1992,
          1996,
          2000,
          2004,
          2008,
          2012,
          2016,
          2020
         ],
         "xaxis": "x",
         "y": [
          0.5988026937923104,
          0.6645596676961624,
          0.723646702858366,
          0.6207845112576045,
          0.4203258980241188,
          0.521841081448249,
          0.6717043948047806,
          0.6839094482399026,
          0.6151709147303861,
          0.6452978349589283,
          0.5926143236919689,
          0.6383756483190364
         ],
         "yaxis": "y"
        },
        {
         "hovertemplate": "State=MAINE<br>Election Year=%{x}<br>Proportion Republican=%{y}<extra></extra>",
         "legendgroup": "MAINE",
         "line": {
          "color": "rgb(15, 133, 84)",
          "dash": "solid"
         },
         "marker": {
          "symbol": "circle"
         },
         "mode": "lines+markers",
         "name": "MAINE",
         "orientation": "v",
         "showlegend": true,
         "type": "scatter",
         "x": [
          1976,
          1980,
          1984,
          1988,
          1992,
          1996,
          2000,
          2004,
          2008,
          2012,
          2016,
          2020
         ],
         "xaxis": "x",
         "y": [
          0.489307780225605,
          0.45605541757247936,
          0.6083406852465181,
          0.5533542929725153,
          0.30390626034769735,
          0.3076067384390416,
          0.43971850994987854,
          0.44576457437846945,
          0.40384018337908234,
          0.40327392039825705,
          0.43476678084498865,
          0.43551228110418266
         ],
         "yaxis": "y"
        },
        {
         "hovertemplate": "State=NEVADA<br>Election Year=%{x}<br>Proportion Republican=%{y}<extra></extra>",
         "legendgroup": "NEVADA",
         "line": {
          "color": "rgb(115, 175, 72)",
          "dash": "solid"
         },
         "marker": {
          "symbol": "circle"
         },
         "mode": "lines+markers",
         "name": "NEVADA",
         "orientation": "v",
         "showlegend": true,
         "type": "scatter",
         "x": [
          1976,
          1980,
          1984,
          1988,
          1992,
          1996,
          2000,
          2004,
          2008,
          2012,
          2016,
          2020
         ],
         "xaxis": "x",
         "y": [
          0.5016594345043492,
          0.6361185430789685,
          0.6676995016217631,
          0.6004668743606706,
          0.34726792253089955,
          0.4291471292046377,
          0.49485089247915254,
          0.504696915453111,
          0.42654115108984053,
          0.4567531564126363,
          0.4550069531760242,
          0.4766624732455941
         ],
         "yaxis": "y"
        },
        {
         "hovertemplate": "State=NEW HAMPSHIRE<br>Election Year=%{x}<br>Proportion Republican=%{y}<extra></extra>",
         "legendgroup": "NEW HAMPSHIRE",
         "line": {
          "color": "rgb(237, 173, 8)",
          "dash": "solid"
         },
         "marker": {
          "symbol": "circle"
         },
         "mode": "lines+markers",
         "name": "NEW HAMPSHIRE",
         "orientation": "v",
         "showlegend": true,
         "type": "scatter",
         "x": [
          1976,
          1980,
          1984,
          1988,
          1992,
          1996,
          2000,
          2004,
          2008,
          2012,
          2016,
          2020
         ],
         "xaxis": "x",
         "y": [
          0.5474682519352113,
          0.5773718065574625,
          0.6866733178367926,
          0.624908717607236,
          0.37691427082266876,
          0.395664895277257,
          0.4807030985044308,
          0.4883434298460681,
          0.44521428470962204,
          0.4640379649268888,
          0.46458666981953417,
          0.45356259504677604
         ],
         "yaxis": "y"
        },
        {
         "hovertemplate": "State=UTAH<br>Election Year=%{x}<br>Proportion Republican=%{y}<extra></extra>",
         "legendgroup": "UTAH",
         "line": {
          "color": "rgb(225, 124, 5)",
          "dash": "solid"
         },
         "marker": {
          "symbol": "circle"
         },
         "mode": "lines+markers",
         "name": "UTAH",
         "orientation": "v",
         "showlegend": true,
         "type": "scatter",
         "x": [
          1976,
          1980,
          1984,
          1988,
          1992,
          1996,
          2000,
          2004,
          2008,
          2012,
          2016,
          2020
         ],
         "xaxis": "x",
         "y": [
          0.6243473055219892,
          0.7277754604801441,
          0.7450179145438144,
          0.6621896483505614,
          0.4336463270062554,
          0.54371278895601,
          0.6683014295092857,
          0.7153594785330293,
          0.6258386971450172,
          0.727905331026891,
          0.4554081658810042,
          0.5812983902991959
         ],
         "yaxis": "y"
        },
        {
         "hovertemplate": "State=VERMONT<br>Election Year=%{x}<br>Proportion Republican=%{y}<extra></extra>",
         "legendgroup": "VERMONT",
         "line": {
          "color": "rgb(204, 80, 62)",
          "dash": "solid"
         },
         "marker": {
          "symbol": "circle"
         },
         "mode": "lines+markers",
         "name": "VERMONT",
         "orientation": "v",
         "showlegend": true,
         "type": "scatter",
         "x": [
          1976,
          1980,
          1984,
          1988,
          1992,
          1996,
          2000,
          2004,
          2008,
          2012,
          2016,
          2020
         ],
         "xaxis": "x",
         "y": [
          0.5458722580504834,
          0.4436401483363729,
          0.579230988953833,
          0.510960514203051,
          0.30418258825478683,
          0.31090079667555304,
          0.4069716079753184,
          0.38801315363950445,
          0.30449228724549754,
          0.3097263523672692,
          0.29759382401308093,
          0.3038105712622113
         ],
         "yaxis": "y"
        },
        {
         "hovertemplate": "State=WEST VIRGINIA<br>Election Year=%{x}<br>Proportion Republican=%{y}<extra></extra>",
         "legendgroup": "WEST VIRGINIA",
         "line": {
          "color": "rgb(148, 52, 110)",
          "dash": "solid"
         },
         "marker": {
          "symbol": "circle"
         },
         "mode": "lines+markers",
         "name": "WEST VIRGINIA",
         "orientation": "v",
         "showlegend": true,
         "type": "scatter",
         "x": [
          1976,
          1980,
          1984,
          1988,
          1992,
          1996,
          2000,
          2004,
          2008,
          2012,
          2016,
          2020
         ],
         "xaxis": "x",
         "y": [
          0.4193048135466766,
          0.45302860860901567,
          0.551121181066189,
          0.47460550947404834,
          0.35393029164356854,
          0.3675743449303097,
          0.5191521992705099,
          0.5607071786946674,
          0.5571034310695478,
          0.6229584241943327,
          0.6863057481161936,
          0.6863155192461606
         ],
         "yaxis": "y"
        },
        {
         "hovertemplate": "State=WYOMING<br>Election Year=%{x}<br>Proportion Republican=%{y}<extra></extra>",
         "legendgroup": "WYOMING",
         "line": {
          "color": "rgb(111, 64, 112)",
          "dash": "solid"
         },
         "marker": {
          "symbol": "circle"
         },
         "mode": "lines+markers",
         "name": "WYOMING",
         "orientation": "v",
         "showlegend": true,
         "type": "scatter",
         "x": [
          1976,
          1980,
          1984,
          1988,
          1992,
          1996,
          2000,
          2004,
          2008,
          2012,
          2016,
          2020
         ],
         "xaxis": "x",
         "y": [
          0.5930358250769142,
          0.6264394809663126,
          0.7050982176876508,
          0.6053038498790718,
          0.3969652398391067,
          0.4981211980848037,
          0.6922274313841086,
          0.6873956885274808,
          0.6471377459749553,
          0.6819358518713527,
          0.6739841105460841,
          0.6949978994840271
         ],
         "yaxis": "y"
        }
       ],
       "layout": {
        "height": 600,
        "legend": {
         "title": {
          "text": "State"
         },
         "tracegroupgap": 0
        },
        "template": {
         "data": {
          "bar": [
           {
            "error_x": {
             "color": "#2a3f5f"
            },
            "error_y": {
             "color": "#2a3f5f"
            },
            "marker": {
             "line": {
              "color": "white",
              "width": 0.5
             },
             "pattern": {
              "fillmode": "overlay",
              "size": 10,
              "solidity": 0.2
             }
            },
            "type": "bar"
           }
          ],
          "barpolar": [
           {
            "marker": {
             "line": {
              "color": "white",
              "width": 0.5
             },
             "pattern": {
              "fillmode": "overlay",
              "size": 10,
              "solidity": 0.2
             }
            },
            "type": "barpolar"
           }
          ],
          "carpet": [
           {
            "aaxis": {
             "endlinecolor": "#2a3f5f",
             "gridcolor": "#C8D4E3",
             "linecolor": "#C8D4E3",
             "minorgridcolor": "#C8D4E3",
             "startlinecolor": "#2a3f5f"
            },
            "baxis": {
             "endlinecolor": "#2a3f5f",
             "gridcolor": "#C8D4E3",
             "linecolor": "#C8D4E3",
             "minorgridcolor": "#C8D4E3",
             "startlinecolor": "#2a3f5f"
            },
            "type": "carpet"
           }
          ],
          "choropleth": [
           {
            "colorbar": {
             "outlinewidth": 0,
             "ticks": ""
            },
            "type": "choropleth"
           }
          ],
          "contour": [
           {
            "colorbar": {
             "outlinewidth": 0,
             "ticks": ""
            },
            "colorscale": [
             [
              0,
              "#0d0887"
             ],
             [
              0.1111111111111111,
              "#46039f"
             ],
             [
              0.2222222222222222,
              "#7201a8"
             ],
             [
              0.3333333333333333,
              "#9c179e"
             ],
             [
              0.4444444444444444,
              "#bd3786"
             ],
             [
              0.5555555555555556,
              "#d8576b"
             ],
             [
              0.6666666666666666,
              "#ed7953"
             ],
             [
              0.7777777777777778,
              "#fb9f3a"
             ],
             [
              0.8888888888888888,
              "#fdca26"
             ],
             [
              1,
              "#f0f921"
             ]
            ],
            "type": "contour"
           }
          ],
          "contourcarpet": [
           {
            "colorbar": {
             "outlinewidth": 0,
             "ticks": ""
            },
            "type": "contourcarpet"
           }
          ],
          "heatmap": [
           {
            "colorbar": {
             "outlinewidth": 0,
             "ticks": ""
            },
            "colorscale": [
             [
              0,
              "#0d0887"
             ],
             [
              0.1111111111111111,
              "#46039f"
             ],
             [
              0.2222222222222222,
              "#7201a8"
             ],
             [
              0.3333333333333333,
              "#9c179e"
             ],
             [
              0.4444444444444444,
              "#bd3786"
             ],
             [
              0.5555555555555556,
              "#d8576b"
             ],
             [
              0.6666666666666666,
              "#ed7953"
             ],
             [
              0.7777777777777778,
              "#fb9f3a"
             ],
             [
              0.8888888888888888,
              "#fdca26"
             ],
             [
              1,
              "#f0f921"
             ]
            ],
            "type": "heatmap"
           }
          ],
          "heatmapgl": [
           {
            "colorbar": {
             "outlinewidth": 0,
             "ticks": ""
            },
            "colorscale": [
             [
              0,
              "#0d0887"
             ],
             [
              0.1111111111111111,
              "#46039f"
             ],
             [
              0.2222222222222222,
              "#7201a8"
             ],
             [
              0.3333333333333333,
              "#9c179e"
             ],
             [
              0.4444444444444444,
              "#bd3786"
             ],
             [
              0.5555555555555556,
              "#d8576b"
             ],
             [
              0.6666666666666666,
              "#ed7953"
             ],
             [
              0.7777777777777778,
              "#fb9f3a"
             ],
             [
              0.8888888888888888,
              "#fdca26"
             ],
             [
              1,
              "#f0f921"
             ]
            ],
            "type": "heatmapgl"
           }
          ],
          "histogram": [
           {
            "marker": {
             "pattern": {
              "fillmode": "overlay",
              "size": 10,
              "solidity": 0.2
             }
            },
            "type": "histogram"
           }
          ],
          "histogram2d": [
           {
            "colorbar": {
             "outlinewidth": 0,
             "ticks": ""
            },
            "colorscale": [
             [
              0,
              "#0d0887"
             ],
             [
              0.1111111111111111,
              "#46039f"
             ],
             [
              0.2222222222222222,
              "#7201a8"
             ],
             [
              0.3333333333333333,
              "#9c179e"
             ],
             [
              0.4444444444444444,
              "#bd3786"
             ],
             [
              0.5555555555555556,
              "#d8576b"
             ],
             [
              0.6666666666666666,
              "#ed7953"
             ],
             [
              0.7777777777777778,
              "#fb9f3a"
             ],
             [
              0.8888888888888888,
              "#fdca26"
             ],
             [
              1,
              "#f0f921"
             ]
            ],
            "type": "histogram2d"
           }
          ],
          "histogram2dcontour": [
           {
            "colorbar": {
             "outlinewidth": 0,
             "ticks": ""
            },
            "colorscale": [
             [
              0,
              "#0d0887"
             ],
             [
              0.1111111111111111,
              "#46039f"
             ],
             [
              0.2222222222222222,
              "#7201a8"
             ],
             [
              0.3333333333333333,
              "#9c179e"
             ],
             [
              0.4444444444444444,
              "#bd3786"
             ],
             [
              0.5555555555555556,
              "#d8576b"
             ],
             [
              0.6666666666666666,
              "#ed7953"
             ],
             [
              0.7777777777777778,
              "#fb9f3a"
             ],
             [
              0.8888888888888888,
              "#fdca26"
             ],
             [
              1,
              "#f0f921"
             ]
            ],
            "type": "histogram2dcontour"
           }
          ],
          "mesh3d": [
           {
            "colorbar": {
             "outlinewidth": 0,
             "ticks": ""
            },
            "type": "mesh3d"
           }
          ],
          "parcoords": [
           {
            "line": {
             "colorbar": {
              "outlinewidth": 0,
              "ticks": ""
             }
            },
            "type": "parcoords"
           }
          ],
          "pie": [
           {
            "automargin": true,
            "type": "pie"
           }
          ],
          "scatter": [
           {
            "fillpattern": {
             "fillmode": "overlay",
             "size": 10,
             "solidity": 0.2
            },
            "type": "scatter"
           }
          ],
          "scatter3d": [
           {
            "line": {
             "colorbar": {
              "outlinewidth": 0,
              "ticks": ""
             }
            },
            "marker": {
             "colorbar": {
              "outlinewidth": 0,
              "ticks": ""
             }
            },
            "type": "scatter3d"
           }
          ],
          "scattercarpet": [
           {
            "marker": {
             "colorbar": {
              "outlinewidth": 0,
              "ticks": ""
             }
            },
            "type": "scattercarpet"
           }
          ],
          "scattergeo": [
           {
            "marker": {
             "colorbar": {
              "outlinewidth": 0,
              "ticks": ""
             }
            },
            "type": "scattergeo"
           }
          ],
          "scattergl": [
           {
            "marker": {
             "colorbar": {
              "outlinewidth": 0,
              "ticks": ""
             }
            },
            "type": "scattergl"
           }
          ],
          "scattermapbox": [
           {
            "marker": {
             "colorbar": {
              "outlinewidth": 0,
              "ticks": ""
             }
            },
            "type": "scattermapbox"
           }
          ],
          "scatterpolar": [
           {
            "marker": {
             "colorbar": {
              "outlinewidth": 0,
              "ticks": ""
             }
            },
            "type": "scatterpolar"
           }
          ],
          "scatterpolargl": [
           {
            "marker": {
             "colorbar": {
              "outlinewidth": 0,
              "ticks": ""
             }
            },
            "type": "scatterpolargl"
           }
          ],
          "scatterternary": [
           {
            "marker": {
             "colorbar": {
              "outlinewidth": 0,
              "ticks": ""
             }
            },
            "type": "scatterternary"
           }
          ],
          "surface": [
           {
            "colorbar": {
             "outlinewidth": 0,
             "ticks": ""
            },
            "colorscale": [
             [
              0,
              "#0d0887"
             ],
             [
              0.1111111111111111,
              "#46039f"
             ],
             [
              0.2222222222222222,
              "#7201a8"
             ],
             [
              0.3333333333333333,
              "#9c179e"
             ],
             [
              0.4444444444444444,
              "#bd3786"
             ],
             [
              0.5555555555555556,
              "#d8576b"
             ],
             [
              0.6666666666666666,
              "#ed7953"
             ],
             [
              0.7777777777777778,
              "#fb9f3a"
             ],
             [
              0.8888888888888888,
              "#fdca26"
             ],
             [
              1,
              "#f0f921"
             ]
            ],
            "type": "surface"
           }
          ],
          "table": [
           {
            "cells": {
             "fill": {
              "color": "#EBF0F8"
             },
             "line": {
              "color": "white"
             }
            },
            "header": {
             "fill": {
              "color": "#C8D4E3"
             },
             "line": {
              "color": "white"
             }
            },
            "type": "table"
           }
          ]
         },
         "layout": {
          "annotationdefaults": {
           "arrowcolor": "#2a3f5f",
           "arrowhead": 0,
           "arrowwidth": 1
          },
          "autotypenumbers": "strict",
          "coloraxis": {
           "colorbar": {
            "outlinewidth": 0,
            "ticks": ""
           }
          },
          "colorscale": {
           "diverging": [
            [
             0,
             "#8e0152"
            ],
            [
             0.1,
             "#c51b7d"
            ],
            [
             0.2,
             "#de77ae"
            ],
            [
             0.3,
             "#f1b6da"
            ],
            [
             0.4,
             "#fde0ef"
            ],
            [
             0.5,
             "#f7f7f7"
            ],
            [
             0.6,
             "#e6f5d0"
            ],
            [
             0.7,
             "#b8e186"
            ],
            [
             0.8,
             "#7fbc41"
            ],
            [
             0.9,
             "#4d9221"
            ],
            [
             1,
             "#276419"
            ]
           ],
           "sequential": [
            [
             0,
             "#0d0887"
            ],
            [
             0.1111111111111111,
             "#46039f"
            ],
            [
             0.2222222222222222,
             "#7201a8"
            ],
            [
             0.3333333333333333,
             "#9c179e"
            ],
            [
             0.4444444444444444,
             "#bd3786"
            ],
            [
             0.5555555555555556,
             "#d8576b"
            ],
            [
             0.6666666666666666,
             "#ed7953"
            ],
            [
             0.7777777777777778,
             "#fb9f3a"
            ],
            [
             0.8888888888888888,
             "#fdca26"
            ],
            [
             1,
             "#f0f921"
            ]
           ],
           "sequentialminus": [
            [
             0,
             "#0d0887"
            ],
            [
             0.1111111111111111,
             "#46039f"
            ],
            [
             0.2222222222222222,
             "#7201a8"
            ],
            [
             0.3333333333333333,
             "#9c179e"
            ],
            [
             0.4444444444444444,
             "#bd3786"
            ],
            [
             0.5555555555555556,
             "#d8576b"
            ],
            [
             0.6666666666666666,
             "#ed7953"
            ],
            [
             0.7777777777777778,
             "#fb9f3a"
            ],
            [
             0.8888888888888888,
             "#fdca26"
            ],
            [
             1,
             "#f0f921"
            ]
           ]
          },
          "colorway": [
           "#636efa",
           "#EF553B",
           "#00cc96",
           "#ab63fa",
           "#FFA15A",
           "#19d3f3",
           "#FF6692",
           "#B6E880",
           "#FF97FF",
           "#FECB52"
          ],
          "font": {
           "color": "#2a3f5f"
          },
          "geo": {
           "bgcolor": "white",
           "lakecolor": "white",
           "landcolor": "white",
           "showlakes": true,
           "showland": true,
           "subunitcolor": "#C8D4E3"
          },
          "hoverlabel": {
           "align": "left"
          },
          "hovermode": "closest",
          "mapbox": {
           "style": "light"
          },
          "paper_bgcolor": "white",
          "plot_bgcolor": "white",
          "polar": {
           "angularaxis": {
            "gridcolor": "#EBF0F8",
            "linecolor": "#EBF0F8",
            "ticks": ""
           },
           "bgcolor": "white",
           "radialaxis": {
            "gridcolor": "#EBF0F8",
            "linecolor": "#EBF0F8",
            "ticks": ""
           }
          },
          "scene": {
           "xaxis": {
            "backgroundcolor": "white",
            "gridcolor": "#DFE8F3",
            "gridwidth": 2,
            "linecolor": "#EBF0F8",
            "showbackground": true,
            "ticks": "",
            "zerolinecolor": "#EBF0F8"
           },
           "yaxis": {
            "backgroundcolor": "white",
            "gridcolor": "#DFE8F3",
            "gridwidth": 2,
            "linecolor": "#EBF0F8",
            "showbackground": true,
            "ticks": "",
            "zerolinecolor": "#EBF0F8"
           },
           "zaxis": {
            "backgroundcolor": "white",
            "gridcolor": "#DFE8F3",
            "gridwidth": 2,
            "linecolor": "#EBF0F8",
            "showbackground": true,
            "ticks": "",
            "zerolinecolor": "#EBF0F8"
           }
          },
          "shapedefaults": {
           "line": {
            "color": "#2a3f5f"
           }
          },
          "ternary": {
           "aaxis": {
            "gridcolor": "#DFE8F3",
            "linecolor": "#A2B1C6",
            "ticks": ""
           },
           "baxis": {
            "gridcolor": "#DFE8F3",
            "linecolor": "#A2B1C6",
            "ticks": ""
           },
           "bgcolor": "white",
           "caxis": {
            "gridcolor": "#DFE8F3",
            "linecolor": "#A2B1C6",
            "ticks": ""
           }
          },
          "title": {
           "x": 0.05
          },
          "xaxis": {
           "automargin": true,
           "gridcolor": "#EBF0F8",
           "linecolor": "#EBF0F8",
           "ticks": "",
           "title": {
            "standoff": 15
           },
           "zerolinecolor": "#EBF0F8",
           "zerolinewidth": 2
          },
          "yaxis": {
           "automargin": true,
           "gridcolor": "#EBF0F8",
           "linecolor": "#EBF0F8",
           "ticks": "",
           "title": {
            "standoff": 15
           },
           "zerolinecolor": "#EBF0F8",
           "zerolinewidth": 2
          }
         }
        },
        "title": {
         "text": "<b>Proportion of Votes for Republican Candidates (Compared to Democrat Candidates) by State and Election Year</b><br><i>US Presidential Elections 1976 - 2020, States with Top 10 Shifts</i>"
        },
        "xaxis": {
         "anchor": "y",
         "domain": [
          0,
          1
         ],
         "title": {
          "text": "Election Year"
         }
        },
        "yaxis": {
         "anchor": "x",
         "domain": [
          0,
          1
         ],
         "title": {
          "text": "Proportion Republican"
         }
        }
       }
      }
     },
     "metadata": {},
     "output_type": "display_data"
    }
   ],
   "source": [
    "px.line(\n",
    "    data_frame = rep_party_prop_df.filter(pl.col(\"state_po\").is_in(top_diff_states)),\n",
    "    x = \"year\", \n",
    "    y = \"candidatevotes_prop\",\n",
    "    title = \"<b>Proportion of Votes for Republican Candidates (Compared to Democrat Candidates) by State and Election Year</b><br><i>US Presidential Elections 1976 - 2020, States with Top 10 Shifts</i>\",\n",
    "    labels = {\"candidatevotes_prop\": \"Proportion Republican\", \"year\": \"Election Year\", \"state\": \"State\"},\n",
    "    color = \"state\",\n",
    "    color_discrete_sequence = px.colors.qualitative.Prism,\n",
    "    markers = True,\n",
    "    height = 600\n",
    ")"
   ]
  },
  {
   "cell_type": "code",
   "execution_count": 42,
   "metadata": {},
   "outputs": [
    {
     "data": {
      "application/vnd.plotly.v1+json": {
       "config": {
        "plotlyServerURL": "https://plot.ly"
       },
       "data": [
        {
         "alignmentgroup": "True",
         "hovertemplate": "Election Year=%{x}<br>Proportion Third Party=%{y}<extra></extra>",
         "legendgroup": "",
         "marker": {
          "color": "rgb(95, 70, 144)"
         },
         "name": "",
         "notched": false,
         "offsetgroup": "",
         "orientation": "v",
         "showlegend": false,
         "type": "box",
         "x": [
          1976,
          1976,
          1976,
          1976,
          1976,
          1976,
          1976,
          1976,
          1976,
          1976,
          1976,
          1976,
          1976,
          1976,
          1976,
          1976,
          1976,
          1976,
          1976,
          1976,
          1976,
          1976,
          1976,
          1976,
          1976,
          1976,
          1976,
          1976,
          1976,
          1976,
          1976,
          1976,
          1976,
          1976,
          1976,
          1976,
          1976,
          1976,
          1976,
          1976,
          1976,
          1976,
          1976,
          1976,
          1976,
          1976,
          1976,
          1976,
          1980,
          1980,
          1980,
          1980,
          1980,
          1980,
          1980,
          1980,
          1980,
          1980,
          1980,
          1980,
          1980,
          1980,
          1980,
          1980,
          1980,
          1980,
          1980,
          1980,
          1980,
          1980,
          1980,
          1980,
          1980,
          1980,
          1980,
          1980,
          1980,
          1980,
          1980,
          1980,
          1980,
          1980,
          1980,
          1980,
          1980,
          1980,
          1980,
          1980,
          1980,
          1980,
          1980,
          1980,
          1980,
          1980,
          1980,
          1980,
          1980,
          1980,
          1980,
          1984,
          1984,
          1984,
          1984,
          1984,
          1984,
          1984,
          1984,
          1984,
          1984,
          1984,
          1984,
          1984,
          1984,
          1984,
          1984,
          1984,
          1984,
          1984,
          1984,
          1984,
          1984,
          1984,
          1984,
          1984,
          1984,
          1984,
          1984,
          1984,
          1984,
          1984,
          1984,
          1984,
          1984,
          1984,
          1984,
          1984,
          1984,
          1984,
          1984,
          1984,
          1984,
          1984,
          1984,
          1984,
          1984,
          1984,
          1984,
          1984,
          1984,
          1988,
          1988,
          1988,
          1988,
          1988,
          1988,
          1988,
          1988,
          1988,
          1988,
          1988,
          1988,
          1988,
          1988,
          1988,
          1988,
          1988,
          1988,
          1988,
          1988,
          1988,
          1988,
          1988,
          1988,
          1988,
          1988,
          1988,
          1988,
          1988,
          1988,
          1988,
          1988,
          1988,
          1988,
          1988,
          1988,
          1988,
          1988,
          1988,
          1988,
          1988,
          1988,
          1988,
          1988,
          1988,
          1988,
          1988,
          1988,
          1988,
          1988,
          1988,
          1992,
          1992,
          1992,
          1992,
          1992,
          1992,
          1992,
          1992,
          1992,
          1992,
          1992,
          1992,
          1992,
          1992,
          1992,
          1992,
          1992,
          1992,
          1992,
          1992,
          1992,
          1992,
          1992,
          1992,
          1992,
          1992,
          1992,
          1992,
          1992,
          1992,
          1992,
          1992,
          1992,
          1992,
          1992,
          1992,
          1992,
          1992,
          1992,
          1992,
          1992,
          1992,
          1992,
          1992,
          1992,
          1992,
          1992,
          1992,
          1992,
          1992,
          1992,
          1996,
          1996,
          1996,
          1996,
          1996,
          1996,
          1996,
          1996,
          1996,
          1996,
          1996,
          1996,
          1996,
          1996,
          1996,
          1996,
          1996,
          1996,
          1996,
          1996,
          1996,
          1996,
          1996,
          1996,
          1996,
          1996,
          1996,
          1996,
          1996,
          1996,
          1996,
          1996,
          1996,
          1996,
          1996,
          1996,
          1996,
          1996,
          1996,
          1996,
          1996,
          1996,
          1996,
          1996,
          1996,
          1996,
          1996,
          1996,
          1996,
          1996,
          1996,
          2000,
          2000,
          2000,
          2000,
          2000,
          2000,
          2000,
          2000,
          2000,
          2000,
          2000,
          2000,
          2000,
          2000,
          2000,
          2000,
          2000,
          2000,
          2000,
          2000,
          2000,
          2000,
          2000,
          2000,
          2000,
          2000,
          2000,
          2000,
          2000,
          2000,
          2000,
          2000,
          2000,
          2000,
          2000,
          2000,
          2000,
          2000,
          2000,
          2000,
          2000,
          2000,
          2000,
          2000,
          2000,
          2000,
          2000,
          2000,
          2000,
          2000,
          2000,
          2004,
          2004,
          2004,
          2004,
          2004,
          2004,
          2004,
          2004,
          2004,
          2004,
          2004,
          2004,
          2004,
          2004,
          2004,
          2004,
          2004,
          2004,
          2004,
          2004,
          2004,
          2004,
          2004,
          2004,
          2004,
          2004,
          2004,
          2004,
          2004,
          2004,
          2004,
          2004,
          2004,
          2004,
          2004,
          2004,
          2004,
          2004,
          2004,
          2004,
          2004,
          2004,
          2004,
          2004,
          2004,
          2004,
          2004,
          2004,
          2004,
          2004,
          2008,
          2008,
          2008,
          2008,
          2008,
          2008,
          2008,
          2008,
          2008,
          2008,
          2008,
          2008,
          2008,
          2008,
          2008,
          2008,
          2008,
          2008,
          2008,
          2008,
          2008,
          2008,
          2008,
          2008,
          2008,
          2008,
          2008,
          2008,
          2008,
          2008,
          2008,
          2008,
          2008,
          2008,
          2008,
          2008,
          2008,
          2008,
          2008,
          2008,
          2008,
          2008,
          2008,
          2008,
          2008,
          2008,
          2008,
          2008,
          2008,
          2008,
          2012,
          2012,
          2012,
          2012,
          2012,
          2012,
          2012,
          2012,
          2012,
          2012,
          2012,
          2012,
          2012,
          2012,
          2012,
          2012,
          2012,
          2012,
          2012,
          2012,
          2012,
          2012,
          2012,
          2012,
          2012,
          2012,
          2012,
          2012,
          2012,
          2012,
          2012,
          2012,
          2012,
          2012,
          2012,
          2012,
          2012,
          2012,
          2012,
          2012,
          2012,
          2012,
          2012,
          2012,
          2012,
          2012,
          2012,
          2012,
          2012,
          2012,
          2016,
          2016,
          2016,
          2016,
          2016,
          2016,
          2016,
          2016,
          2016,
          2016,
          2016,
          2016,
          2016,
          2016,
          2016,
          2016,
          2016,
          2016,
          2016,
          2016,
          2016,
          2016,
          2016,
          2016,
          2016,
          2016,
          2016,
          2016,
          2016,
          2016,
          2016,
          2016,
          2016,
          2016,
          2016,
          2016,
          2016,
          2016,
          2016,
          2016,
          2016,
          2016,
          2016,
          2016,
          2016,
          2016,
          2016,
          2016,
          2016,
          2016,
          2016,
          2020,
          2020,
          2020,
          2020,
          2020,
          2020,
          2020,
          2020,
          2020,
          2020,
          2020,
          2020,
          2020,
          2020,
          2020,
          2020,
          2020,
          2020,
          2020,
          2020,
          2020,
          2020,
          2020,
          2020,
          2020,
          2020,
          2020,
          2020,
          2020,
          2020,
          2020,
          2020,
          2020,
          2020,
          2020,
          2020,
          2020,
          2020,
          2020,
          2020,
          2020,
          2020,
          2020,
          2020,
          2020,
          2020,
          2020,
          2020,
          2020,
          2020,
          2020
         ],
         "x0": " ",
         "xaxis": "x",
         "y": [
          0.01657860252779304,
          0.06442293686374156,
          0.03833886032267924,
          0.001339352602812901,
          0.02296864207940521,
          0.033622762242935346,
          0.013848545286019812,
          0.014432910941173474,
          0.018592667180003554,
          0.014314592854574211,
          0.013467169697323388,
          0.030011849870355378,
          0.01815566195791736,
          0.009768677359817903,
          0.020720658045826516,
          0.025757820941801648,
          0.016770024555709587,
          0.022367606270006724,
          0.029751453512448033,
          0.034467124987929615,
          0.01674174811520461,
          0.03081955207645809,
          0.026308254922630434,
          0.014214782964782966,
          0.017558268995601308,
          0.023464397963573073,
          0.04024252511442668,
          0.017804827060274947,
          0.019947440215069175,
          0.00965697688374661,
          0.026680565340713967,
          0.005114112471139623,
          0.02538108628089389,
          0.024296817676676262,
          0.012910036246247428,
          0.04597543781969868,
          0.018721053361689253,
          0.004138008300372153,
          0.007011112869323172,
          0.007000844757514684,
          0.011174887187691775,
          0.008906196738413964,
          0.0391709071021289,
          0.03108720949201205,
          0.027484629608024072,
          0.038879895907129,
          0.026705391236813154,
          0.008871519671491529,
          0.038010207693551595,
          0.19243901669348987,
          0.11146468027164179,
          0.043430971534727345,
          0.11383060206190468,
          0.13861032546751656,
          0.13321837323159957,
          0.07918767079111293,
          0.11699992523966439,
          0.0598061746272709,
          0.03236588061785879,
          0.12297262988522423,
          0.08353317437492999,
          0.0863753892070713,
          0.0634156589131382,
          0.10090835199645432,
          0.08862364065952572,
          0.03313916736838612,
          0.030534208193125235,
          0.12144104043700803,
          0.08680905370737736,
          0.16348743507561142,
          0.08516404606462091,
          0.1093977531243969,
          0.023975329408466497,
          0.04498519875951508,
          0.10744823493207895,
          0.08427243003879392,
          0.09031482362982782,
          0.1391208104377718,
          0.09468848170706298,
          0.0824834461036698,
          0.09347949575287422,
          0.035121694678346596,
          0.09375788732581464,
          0.07578760216574693,
          0.045326291545331514,
          0.1299872367365317,
          0.07937935341897327,
          0.15105044390540595,
          0.023372713783607918,
          0.07782962011333433,
          0.028933937349778935,
          0.032980185994650385,
          0.0665378911267363,
          0.1721480175715779,
          0.06658460305075155,
          0.13025584339707322,
          0.04886304331618579,
          0.08920910021506928,
          0.09385840317350733,
          0.011767251873292396,
          0.03478239926784037,
          0.010358739717534997,
          0.012421896730687039,
          0.012152814490752853,
          0.0143494573021044,
          0.004380666712113982,
          0.0028518454504030295,
          0.008855211843550035,
          0.00021171990485283553,
          0.00042396189860610564,
          0.010844255998284928,
          0.012431167668748662,
          0.0052885525228009945,
          0.006429716233578094,
          0.008408060281632513,
          0.011297555457924775,
          0.005918157951429333,
          0.010509004453891501,
          0.003848907336968312,
          0.004785565493327955,
          0.0034543481768848196,
          0.005378968860428792,
          0.007427382488129956,
          0.00694397218585831,
          0.013489360705765433,
          0.0063948228005336685,
          0.008107046976304927,
          0.003874992286014029,
          0.007119323327103523,
          0.01069269203102825,
          0.003296404630069004,
          0.0021113736984344207,
          0.013612928074155827,
          0.01298114166813675,
          0.007220015354279289,
          0.003544968842919887,
          0.006697554109958446,
          0.0031742628913320452,
          0.008808202955203199,
          0.004678057174856151,
          0.0058802810525510315,
          0.002754387112276985,
          0.00822989060693458,
          0.012644898342009114,
          0.006199004488420249,
          0.013274237163383844,
          0.0029004732637255993,
          0.007851465554153409,
          0.012473011303501123,
          0.009716527527501385,
          0.04138099902056807,
          0.013058582286647101,
          0.014404316341644336,
          0.013139895408799273,
          0.01658707339146047,
          0.011479194177057684,
          0.006422800340948654,
          0.03048574998574221,
          0.0062122397882255435,
          0.00748699211790866,
          0.00979515376867977,
          0.01910907454861994,
          0.007071759462352383,
          0.0047103666339115965,
          0.007916032290753858,
          0.01647359029408566,
          0.0059492618998470345,
          0.016607276001380664,
          0.00781031826821732,
          0.0069337909584812505,
          0.013958897767054935,
          0.007602278775840703,
          0.011914402491427372,
          0.010430186135238162,
          0.0031797778359548027,
          0.017299561904866083,
          0.006461415192035859,
          0.01269187166492293,
          0.011746295988013983,
          0.011617481617510654,
          0.012560727444297613,
          0.008623609880408894,
          0.003253887564011863,
          0.009967671507530421,
          0.00851400393983501,
          0.007895572809034052,
          0.021105206483514105,
          0.009086798768410302,
          0.004295367033923019,
          0.009139876005188594,
          0.006441079775456803,
          0.005636669213139801,
          0.006970728211061998,
          0.017345998812997674,
          0.013241386112572327,
          0.010333960117885992,
          0.014958828641476518,
          0.003413381988057755,
          0.007900591711656463,
          0.0145623644159478,
          0.11474532895750152,
          0.30255390590547215,
          0.25006405622152356,
          0.11308647845217971,
          0.2137874278379776,
          0.24002918721880218,
          0.2199818581869572,
          0.2114943719356398,
          0.06263951628495597,
          0.20107381499426352,
          0.13653461477649062,
          0.15210196276170604,
          0.29548198144007437,
          0.17082855047872772,
          0.20299314228766485,
          0.1944202266782912,
          0.2737998126570552,
          0.14107977761403978,
          0.1344456505161683,
          0.30842576663100313,
          0.14557992119239332,
          0.23434201114482506,
          0.19850664600543716,
          0.2466451556848789,
          0.09548041185871156,
          0.2200663245890259,
          0.2724637892947346,
          0.23999045483264772,
          0.27915657748687583,
          0.23396777826382364,
          0.1646500741417768,
          0.16762692417006736,
          0.18198253758211108,
          0.13903822960736645,
          0.23600523150717384,
          0.21472106999905058,
          0.23329514175835162,
          0.2499393221722594,
          0.1872662460860396,
          0.2392443174925281,
          0.10244102100069005,
          0.22199884611038084,
          0.10481842878024127,
          0.22361520554538514,
          0.3198086553996113,
          0.23467989409770762,
          0.14456559243398828,
          0.24624174613617533,
          0.16192149216662255,
          0.22091223295815515,
          0.26203698144924054,
          0.06722069099012024,
          0.15931628176475457,
          0.09188517557257345,
          0.09462693183694426,
          0.10691714301426554,
          0.09777044049719931,
          0.12477614040933095,
          0.11592260256268232,
          0.05474193166277204,
          0.09649880052512146,
          0.07142854035779737,
          0.11430911918249473,
          0.1416950200422606,
          0.08874769187021081,
          0.11300482197739005,
          0.09818933209083726,
          0.09624499674206459,
          0.09275600054151052,
          0.08045924822263292,
          0.17615370269204172,
          0.07475728155339806,
          0.10439909265120231,
          0.09820585089964676,
          0.1394381370604773,
          0.06712147468778563,
          0.11219031864193153,
          0.1461839477453001,
          0.11394344677930072,
          0.13151790195119745,
          0.10862933122834008,
          0.10416598934932018,
          0.08960677895388025,
          0.11639151816961579,
          0.07235054199308612,
          0.12933399897151393,
          0.11607380325747381,
          0.11294566313613924,
          0.1378810533039136,
          0.10759519401809296,
          0.13456605688192352,
          0.061460707957523245,
          0.10484025371650207,
          0.06410890631723162,
          0.07409486417883956,
          0.12331944671881785,
          0.15555486769149812,
          0.0774761011353771,
          0.12858161437583993,
          0.11736969702683127,
          0.12711635579957645,
          0.1335201894399516,
          0.019497416988342838,
          0.1371270486062474,
          0.04244276822174181,
          0.028285460429321063,
          0.0489876636699009,
          0.06856276215021753,
          0.05646768640482348,
          0.03105984508242018,
          0.058931914767155036,
          0.02315352223923423,
          0.01829430692379398,
          0.06745463390505801,
          0.05191431675687529,
          0.028185988172348665,
          0.023410154676347314,
          0.059224461982140715,
          0.047199444887970336,
          0.021153340509006507,
          0.02573604371406435,
          0.06942132531063167,
          0.03326910960432784,
          0.08740970985718904,
          0.0257398639716801,
          0.06592077287554562,
          0.0168238474970428,
          0.024929106925232175,
          0.08195412982437357,
          0.045015989521089095,
          0.045736479900759075,
          0.05126510988769613,
          0.03583147225832119,
          0.042440340458232056,
          0.06453019051854002,
          0.008965725439881441,
          0.06286079040852575,
          0.03573098074478126,
          0.012652433219443069,
          0.06521138237882591,
          0.029536957586084402,
          0.07100500596413696,
          0.02238092003624534,
          0.021390019255760128,
          0.015659521014786282,
          0.027194424403255053,
          0.06825134867934517,
          0.08668129986272884,
          0.030906602682950243,
          0.05263136735743234,
          0.02492115706253742,
          0.04554016825168254,
          0.02478874821032537,
          0.006949079199220565,
          0.03417808175356209,
          0.007337329851906876,
          0.011464104763755457,
          0.013367464880838665,
          0.012510623911195843,
          0.017390131171818042,
          0.009003438257949305,
          0.014763649785136168,
          0.008113737399488292,
          0.006502971796327844,
          0.007258521303550243,
          0.01344138133882375,
          0.0069821296462369955,
          0.007922602980062416,
          0.00866210810480799,
          0.013729250788882565,
          0.007634131863897516,
          0.010621139556977334,
          0.018506868695595827,
          0.010485949808701983,
          0.017949379238963538,
          0.009572347131333522,
          0.012967815224719955,
          0.008245132581872289,
          0.00603361543902607,
          0.023668284365745036,
          0.014191979809454296,
          0.016522679357318763,
          0.00964046192835776,
          0.00837779311685302,
          0.01114895597537498,
          0.02301461843602256,
          0.003996564417037727,
          0.016398525730981064,
          0.004792904213167853,
          0.014584202153548978,
          0.006525247027951726,
          0.01905136640023425,
          0.011162143784385238,
          0.016452223638962947,
          0.006756193998405625,
          0.006899167681971147,
          0.024684106379951803,
          0.022612220589224134,
          0.007421258271617302,
          0.015385696957487083,
          0.007241410335118657,
          0.009804114571637637,
          0.022373401240870824,
          0.009426526762544771,
          0.026861068618043698,
          0.01249501302608487,
          0.024194357349461678,
          0.02032502820401271,
          0.016322410499712458,
          0.011897070182512424,
          0.011102974695207704,
          0.010103327778885323,
          0.007513755633588631,
          0.008053029110054157,
          0.021108879455515015,
          0.02391920894123537,
          0.013009629378395622,
          0.011401811814671758,
          0.01678720570832653,
          0.01735778462494498,
          0.014328650731953007,
          0.015043648868985054,
          0.01910244364115799,
          0.016061355922413624,
          0.029018416078659487,
          0.016070470305878364,
          0.021167762575810833,
          0.008222565927442018,
          0.012812777224160358,
          0.031990842853324465,
          0.018698808532836793,
          0.0219920896669725,
          0.013516744729032165,
          0.010239289888391016,
          0.013134849028739107,
          0.021277207424638556,
          0.00921534982303958,
          0.021293597076631053,
          0.015851515761997774,
          0.028502120507871483,
          0.013474195080481973,
          0.02078148912808469,
          0.012297960039959,
          0.02093592512598992,
          0.012745076543927895,
          0.008645181017839645,
          0.030103846194231232,
          0.02095088079841007,
          0.010400294365690281,
          0.018708028442367457,
          0.016999065107484605,
          0.01468550993709562,
          0.027767316323007878,
          0.010951445714247148,
          0.04385763490241102,
          0.01755699892225913,
          0.02554073614170784,
          0.026406623376055628,
          0.023806818093368556,
          0.011698724942305373,
          0.014066539418686123,
          0.01808594654212225,
          0.008611571693257835,
          0.011627981555933942,
          0.02169919868972159,
          0.028478829448973897,
          0.016651233667060027,
          0.01947164715717152,
          0.018341149553148188,
          0.022941090768648528,
          0.01705530566232587,
          0.016379606482236037,
          0.04301573766691779,
          0.02128076881736118,
          0.02342569364448671,
          0.010808797620610273,
          0.023894957400850857,
          0.009247937124295263,
          0.018527753186695937,
          0.029503272402736917,
          0.021694934030229904,
          0.01968434888335806,
          0.016165193565991345,
          0.010340802622180189,
          0.04163912840443096,
          0.022409138734574494,
          0.01255967320789493,
          0.029870065524630573,
          0.01644811463257563,
          0.03610802170717667,
          0.012422762641848542,
          0.020553795659221295,
          0.013508353367771182,
          0.022445473661064003,
          0.014454702862672189,
          0.014496642481827596,
          0.024598010693505267,
          0.024568144608907747,
          0.01560440307392238,
          0.02541980268218112,
          0.021648534241794172,
          0.012854907512256491,
          0.04169508697611896,
          0.035589618776173,
          0.12167616632350728,
          0.05509596158816089,
          0.05772773706810774,
          0.06656493857002686,
          0.08591622245721563,
          0.045067845244753546,
          0.04723838855046537,
          0.05445733024074222,
          0.031547427776042115,
          0.03588690587868177,
          0.09579494772245375,
          0.13246553809823908,
          0.05412880227381428,
          0.05285126864836681,
          0.0708542520982639,
          0.07293047461925935,
          0.047981731144521554,
          0.03461749247917233,
          0.10178107818192182,
          0.05752835036164643,
          0.08663732112473552,
          0.052279048291370124,
          0.08629772933955722,
          0.019441736393802655,
          0.0509242132660164,
          0.07598589356272471,
          0.07553892495738707,
          0.06581481004278536,
          0.0671507034835603,
          0.03196528900276352,
          0.11701838488123169,
          0.05465539719900477,
          0.039990391356101065,
          0.09817632709954699,
          0.0475427304749379,
          0.05745454895828745,
          0.10834112812641156,
          0.035684980316911294,
          0.0669533593022855,
          0.04387247524639484,
          0.06731821461092212,
          0.0456163350713529,
          0.04530056439652652,
          0.26997914819630575,
          0.14517875475477976,
          0.05821000152658262,
          0.10628639751535941,
          0.048924971706091155,
          0.06327974060447222,
          0.10972688068998562,
          0.013983666210128604,
          0.043949044585987265,
          0.015793283551686493,
          0.028292081908407155,
          0.02195329480841564,
          0.03384807224434296,
          0.015521501959857598,
          0.014821174352527828,
          0.024529847018782885,
          0.00918729652053733,
          0.012894703157625262,
          0.028959060615677563,
          0.030960330132924124,
          0.01904903805150468,
          0.02017165174582723,
          0.025525695093904587,
          0.022279336269030964,
          0.017619133195555154,
          0.016876607844652527,
          0.03923192543809345,
          0.024890435721741305,
          0.029688587085036793,
          0.015418910180380125,
          0.023199582810906113,
          0.013394389686388447,
          0.017915624849221504,
          0.02532161398370644,
          0.026092057261578257,
          0.022769707181565645,
          0.019359152151747376,
          0.01269279389838511,
          0.02214044904298323,
          0.02146821624074161,
          0.014794557343412488,
          0.03129188903844187,
          0.01489361558420331,
          0.02340553815950417,
          0.031794352996077614,
          0.011478922843793956,
          0.018534207624905704,
          0.014896805849895946,
          0.02625358191614471,
          0.018882715626924822,
          0.014633864825768427,
          0.042241123867743424,
          0.04163162321278384,
          0.018949791549154316,
          0.03262721121353664,
          0.01671926830864328,
          0.017280258189634395,
          0.04112343493606891
         ],
         "y0": " ",
         "yaxis": "y"
        }
       ],
       "layout": {
        "boxmode": "group",
        "height": 600,
        "legend": {
         "tracegroupgap": 0
        },
        "template": {
         "data": {
          "bar": [
           {
            "error_x": {
             "color": "#2a3f5f"
            },
            "error_y": {
             "color": "#2a3f5f"
            },
            "marker": {
             "line": {
              "color": "white",
              "width": 0.5
             },
             "pattern": {
              "fillmode": "overlay",
              "size": 10,
              "solidity": 0.2
             }
            },
            "type": "bar"
           }
          ],
          "barpolar": [
           {
            "marker": {
             "line": {
              "color": "white",
              "width": 0.5
             },
             "pattern": {
              "fillmode": "overlay",
              "size": 10,
              "solidity": 0.2
             }
            },
            "type": "barpolar"
           }
          ],
          "carpet": [
           {
            "aaxis": {
             "endlinecolor": "#2a3f5f",
             "gridcolor": "#C8D4E3",
             "linecolor": "#C8D4E3",
             "minorgridcolor": "#C8D4E3",
             "startlinecolor": "#2a3f5f"
            },
            "baxis": {
             "endlinecolor": "#2a3f5f",
             "gridcolor": "#C8D4E3",
             "linecolor": "#C8D4E3",
             "minorgridcolor": "#C8D4E3",
             "startlinecolor": "#2a3f5f"
            },
            "type": "carpet"
           }
          ],
          "choropleth": [
           {
            "colorbar": {
             "outlinewidth": 0,
             "ticks": ""
            },
            "type": "choropleth"
           }
          ],
          "contour": [
           {
            "colorbar": {
             "outlinewidth": 0,
             "ticks": ""
            },
            "colorscale": [
             [
              0,
              "#0d0887"
             ],
             [
              0.1111111111111111,
              "#46039f"
             ],
             [
              0.2222222222222222,
              "#7201a8"
             ],
             [
              0.3333333333333333,
              "#9c179e"
             ],
             [
              0.4444444444444444,
              "#bd3786"
             ],
             [
              0.5555555555555556,
              "#d8576b"
             ],
             [
              0.6666666666666666,
              "#ed7953"
             ],
             [
              0.7777777777777778,
              "#fb9f3a"
             ],
             [
              0.8888888888888888,
              "#fdca26"
             ],
             [
              1,
              "#f0f921"
             ]
            ],
            "type": "contour"
           }
          ],
          "contourcarpet": [
           {
            "colorbar": {
             "outlinewidth": 0,
             "ticks": ""
            },
            "type": "contourcarpet"
           }
          ],
          "heatmap": [
           {
            "colorbar": {
             "outlinewidth": 0,
             "ticks": ""
            },
            "colorscale": [
             [
              0,
              "#0d0887"
             ],
             [
              0.1111111111111111,
              "#46039f"
             ],
             [
              0.2222222222222222,
              "#7201a8"
             ],
             [
              0.3333333333333333,
              "#9c179e"
             ],
             [
              0.4444444444444444,
              "#bd3786"
             ],
             [
              0.5555555555555556,
              "#d8576b"
             ],
             [
              0.6666666666666666,
              "#ed7953"
             ],
             [
              0.7777777777777778,
              "#fb9f3a"
             ],
             [
              0.8888888888888888,
              "#fdca26"
             ],
             [
              1,
              "#f0f921"
             ]
            ],
            "type": "heatmap"
           }
          ],
          "heatmapgl": [
           {
            "colorbar": {
             "outlinewidth": 0,
             "ticks": ""
            },
            "colorscale": [
             [
              0,
              "#0d0887"
             ],
             [
              0.1111111111111111,
              "#46039f"
             ],
             [
              0.2222222222222222,
              "#7201a8"
             ],
             [
              0.3333333333333333,
              "#9c179e"
             ],
             [
              0.4444444444444444,
              "#bd3786"
             ],
             [
              0.5555555555555556,
              "#d8576b"
             ],
             [
              0.6666666666666666,
              "#ed7953"
             ],
             [
              0.7777777777777778,
              "#fb9f3a"
             ],
             [
              0.8888888888888888,
              "#fdca26"
             ],
             [
              1,
              "#f0f921"
             ]
            ],
            "type": "heatmapgl"
           }
          ],
          "histogram": [
           {
            "marker": {
             "pattern": {
              "fillmode": "overlay",
              "size": 10,
              "solidity": 0.2
             }
            },
            "type": "histogram"
           }
          ],
          "histogram2d": [
           {
            "colorbar": {
             "outlinewidth": 0,
             "ticks": ""
            },
            "colorscale": [
             [
              0,
              "#0d0887"
             ],
             [
              0.1111111111111111,
              "#46039f"
             ],
             [
              0.2222222222222222,
              "#7201a8"
             ],
             [
              0.3333333333333333,
              "#9c179e"
             ],
             [
              0.4444444444444444,
              "#bd3786"
             ],
             [
              0.5555555555555556,
              "#d8576b"
             ],
             [
              0.6666666666666666,
              "#ed7953"
             ],
             [
              0.7777777777777778,
              "#fb9f3a"
             ],
             [
              0.8888888888888888,
              "#fdca26"
             ],
             [
              1,
              "#f0f921"
             ]
            ],
            "type": "histogram2d"
           }
          ],
          "histogram2dcontour": [
           {
            "colorbar": {
             "outlinewidth": 0,
             "ticks": ""
            },
            "colorscale": [
             [
              0,
              "#0d0887"
             ],
             [
              0.1111111111111111,
              "#46039f"
             ],
             [
              0.2222222222222222,
              "#7201a8"
             ],
             [
              0.3333333333333333,
              "#9c179e"
             ],
             [
              0.4444444444444444,
              "#bd3786"
             ],
             [
              0.5555555555555556,
              "#d8576b"
             ],
             [
              0.6666666666666666,
              "#ed7953"
             ],
             [
              0.7777777777777778,
              "#fb9f3a"
             ],
             [
              0.8888888888888888,
              "#fdca26"
             ],
             [
              1,
              "#f0f921"
             ]
            ],
            "type": "histogram2dcontour"
           }
          ],
          "mesh3d": [
           {
            "colorbar": {
             "outlinewidth": 0,
             "ticks": ""
            },
            "type": "mesh3d"
           }
          ],
          "parcoords": [
           {
            "line": {
             "colorbar": {
              "outlinewidth": 0,
              "ticks": ""
             }
            },
            "type": "parcoords"
           }
          ],
          "pie": [
           {
            "automargin": true,
            "type": "pie"
           }
          ],
          "scatter": [
           {
            "fillpattern": {
             "fillmode": "overlay",
             "size": 10,
             "solidity": 0.2
            },
            "type": "scatter"
           }
          ],
          "scatter3d": [
           {
            "line": {
             "colorbar": {
              "outlinewidth": 0,
              "ticks": ""
             }
            },
            "marker": {
             "colorbar": {
              "outlinewidth": 0,
              "ticks": ""
             }
            },
            "type": "scatter3d"
           }
          ],
          "scattercarpet": [
           {
            "marker": {
             "colorbar": {
              "outlinewidth": 0,
              "ticks": ""
             }
            },
            "type": "scattercarpet"
           }
          ],
          "scattergeo": [
           {
            "marker": {
             "colorbar": {
              "outlinewidth": 0,
              "ticks": ""
             }
            },
            "type": "scattergeo"
           }
          ],
          "scattergl": [
           {
            "marker": {
             "colorbar": {
              "outlinewidth": 0,
              "ticks": ""
             }
            },
            "type": "scattergl"
           }
          ],
          "scattermapbox": [
           {
            "marker": {
             "colorbar": {
              "outlinewidth": 0,
              "ticks": ""
             }
            },
            "type": "scattermapbox"
           }
          ],
          "scatterpolar": [
           {
            "marker": {
             "colorbar": {
              "outlinewidth": 0,
              "ticks": ""
             }
            },
            "type": "scatterpolar"
           }
          ],
          "scatterpolargl": [
           {
            "marker": {
             "colorbar": {
              "outlinewidth": 0,
              "ticks": ""
             }
            },
            "type": "scatterpolargl"
           }
          ],
          "scatterternary": [
           {
            "marker": {
             "colorbar": {
              "outlinewidth": 0,
              "ticks": ""
             }
            },
            "type": "scatterternary"
           }
          ],
          "surface": [
           {
            "colorbar": {
             "outlinewidth": 0,
             "ticks": ""
            },
            "colorscale": [
             [
              0,
              "#0d0887"
             ],
             [
              0.1111111111111111,
              "#46039f"
             ],
             [
              0.2222222222222222,
              "#7201a8"
             ],
             [
              0.3333333333333333,
              "#9c179e"
             ],
             [
              0.4444444444444444,
              "#bd3786"
             ],
             [
              0.5555555555555556,
              "#d8576b"
             ],
             [
              0.6666666666666666,
              "#ed7953"
             ],
             [
              0.7777777777777778,
              "#fb9f3a"
             ],
             [
              0.8888888888888888,
              "#fdca26"
             ],
             [
              1,
              "#f0f921"
             ]
            ],
            "type": "surface"
           }
          ],
          "table": [
           {
            "cells": {
             "fill": {
              "color": "#EBF0F8"
             },
             "line": {
              "color": "white"
             }
            },
            "header": {
             "fill": {
              "color": "#C8D4E3"
             },
             "line": {
              "color": "white"
             }
            },
            "type": "table"
           }
          ]
         },
         "layout": {
          "annotationdefaults": {
           "arrowcolor": "#2a3f5f",
           "arrowhead": 0,
           "arrowwidth": 1
          },
          "autotypenumbers": "strict",
          "coloraxis": {
           "colorbar": {
            "outlinewidth": 0,
            "ticks": ""
           }
          },
          "colorscale": {
           "diverging": [
            [
             0,
             "#8e0152"
            ],
            [
             0.1,
             "#c51b7d"
            ],
            [
             0.2,
             "#de77ae"
            ],
            [
             0.3,
             "#f1b6da"
            ],
            [
             0.4,
             "#fde0ef"
            ],
            [
             0.5,
             "#f7f7f7"
            ],
            [
             0.6,
             "#e6f5d0"
            ],
            [
             0.7,
             "#b8e186"
            ],
            [
             0.8,
             "#7fbc41"
            ],
            [
             0.9,
             "#4d9221"
            ],
            [
             1,
             "#276419"
            ]
           ],
           "sequential": [
            [
             0,
             "#0d0887"
            ],
            [
             0.1111111111111111,
             "#46039f"
            ],
            [
             0.2222222222222222,
             "#7201a8"
            ],
            [
             0.3333333333333333,
             "#9c179e"
            ],
            [
             0.4444444444444444,
             "#bd3786"
            ],
            [
             0.5555555555555556,
             "#d8576b"
            ],
            [
             0.6666666666666666,
             "#ed7953"
            ],
            [
             0.7777777777777778,
             "#fb9f3a"
            ],
            [
             0.8888888888888888,
             "#fdca26"
            ],
            [
             1,
             "#f0f921"
            ]
           ],
           "sequentialminus": [
            [
             0,
             "#0d0887"
            ],
            [
             0.1111111111111111,
             "#46039f"
            ],
            [
             0.2222222222222222,
             "#7201a8"
            ],
            [
             0.3333333333333333,
             "#9c179e"
            ],
            [
             0.4444444444444444,
             "#bd3786"
            ],
            [
             0.5555555555555556,
             "#d8576b"
            ],
            [
             0.6666666666666666,
             "#ed7953"
            ],
            [
             0.7777777777777778,
             "#fb9f3a"
            ],
            [
             0.8888888888888888,
             "#fdca26"
            ],
            [
             1,
             "#f0f921"
            ]
           ]
          },
          "colorway": [
           "#636efa",
           "#EF553B",
           "#00cc96",
           "#ab63fa",
           "#FFA15A",
           "#19d3f3",
           "#FF6692",
           "#B6E880",
           "#FF97FF",
           "#FECB52"
          ],
          "font": {
           "color": "#2a3f5f"
          },
          "geo": {
           "bgcolor": "white",
           "lakecolor": "white",
           "landcolor": "white",
           "showlakes": true,
           "showland": true,
           "subunitcolor": "#C8D4E3"
          },
          "hoverlabel": {
           "align": "left"
          },
          "hovermode": "closest",
          "mapbox": {
           "style": "light"
          },
          "paper_bgcolor": "white",
          "plot_bgcolor": "white",
          "polar": {
           "angularaxis": {
            "gridcolor": "#EBF0F8",
            "linecolor": "#EBF0F8",
            "ticks": ""
           },
           "bgcolor": "white",
           "radialaxis": {
            "gridcolor": "#EBF0F8",
            "linecolor": "#EBF0F8",
            "ticks": ""
           }
          },
          "scene": {
           "xaxis": {
            "backgroundcolor": "white",
            "gridcolor": "#DFE8F3",
            "gridwidth": 2,
            "linecolor": "#EBF0F8",
            "showbackground": true,
            "ticks": "",
            "zerolinecolor": "#EBF0F8"
           },
           "yaxis": {
            "backgroundcolor": "white",
            "gridcolor": "#DFE8F3",
            "gridwidth": 2,
            "linecolor": "#EBF0F8",
            "showbackground": true,
            "ticks": "",
            "zerolinecolor": "#EBF0F8"
           },
           "zaxis": {
            "backgroundcolor": "white",
            "gridcolor": "#DFE8F3",
            "gridwidth": 2,
            "linecolor": "#EBF0F8",
            "showbackground": true,
            "ticks": "",
            "zerolinecolor": "#EBF0F8"
           }
          },
          "shapedefaults": {
           "line": {
            "color": "#2a3f5f"
           }
          },
          "ternary": {
           "aaxis": {
            "gridcolor": "#DFE8F3",
            "linecolor": "#A2B1C6",
            "ticks": ""
           },
           "baxis": {
            "gridcolor": "#DFE8F3",
            "linecolor": "#A2B1C6",
            "ticks": ""
           },
           "bgcolor": "white",
           "caxis": {
            "gridcolor": "#DFE8F3",
            "linecolor": "#A2B1C6",
            "ticks": ""
           }
          },
          "title": {
           "x": 0.05
          },
          "xaxis": {
           "automargin": true,
           "gridcolor": "#EBF0F8",
           "linecolor": "#EBF0F8",
           "ticks": "",
           "title": {
            "standoff": 15
           },
           "zerolinecolor": "#EBF0F8",
           "zerolinewidth": 2
          },
          "yaxis": {
           "automargin": true,
           "gridcolor": "#EBF0F8",
           "linecolor": "#EBF0F8",
           "ticks": "",
           "title": {
            "standoff": 15
           },
           "zerolinecolor": "#EBF0F8",
           "zerolinewidth": 2
          }
         }
        },
        "title": {
         "text": "<b>Distribution of Proportion of Votes for Third Party Candidates by Election Year</b><br><i>US Presidential Elections 1976 - 2020</i>"
        },
        "xaxis": {
         "anchor": "y",
         "domain": [
          0,
          1
         ],
         "title": {
          "text": "Election Year"
         }
        },
        "yaxis": {
         "anchor": "x",
         "domain": [
          0,
          1
         ],
         "title": {
          "text": "Proportion Third Party"
         }
        }
       }
      }
     },
     "metadata": {},
     "output_type": "display_data"
    }
   ],
   "source": [
    "px.box(\n",
    "    data_frame = other_party_prop_df,\n",
    "    x = \"year\", \n",
    "    y = \"candidatevotes_prop\",\n",
    "    color_discrete_sequence = px.colors.qualitative.Prism,\n",
    "    title = \"<b>Distribution of Proportion of Votes for Third Party Candidates by Election Year</b><br><i>US Presidential Elections 1976 - 2020</i>\",\n",
    "    labels = {\"candidatevotes_prop\": \"Proportion Third Party\", \"year\": \"Election Year\"},\n",
    "    height = 600\n",
    ")"
   ]
  },
  {
   "cell_type": "code",
   "execution_count": 43,
   "metadata": {},
   "outputs": [
    {
     "name": "stderr",
     "output_type": "stream",
     "text": [
      "C:\\Users\\lesch\\AppData\\Local\\Packages\\PythonSoftwareFoundation.Python.3.12_qbz5n2kfra8p0\\LocalCache\\local-packages\\Python312\\site-packages\\plotly\\express\\_core.py:2065: FutureWarning:\n",
      "\n",
      "When grouping with a length-1 list-like, you will need to pass a length-1 tuple to get_group in a future version of pandas. Pass `(name,)` instead of `name` to silence this warning.\n",
      "\n"
     ]
    },
    {
     "data": {
      "application/vnd.plotly.v1+json": {
       "config": {
        "plotlyServerURL": "https://plot.ly"
       },
       "data": [
        {
         "alignmentgroup": "True",
         "hovertemplate": "Candidate=%{text}<br>Election Year=%{x}<br>Number of States=%{y}<extra></extra>",
         "legendgroup": "MACBRIDE, ROGER",
         "marker": {
          "color": "rgb(95, 70, 144)",
          "pattern": {
           "shape": ""
          }
         },
         "name": "MACBRIDE, ROGER",
         "offsetgroup": "MACBRIDE, ROGER",
         "orientation": "v",
         "showlegend": true,
         "text": [
          "MACBRIDE, ROGER"
         ],
         "textposition": "auto",
         "type": "bar",
         "x": [
          "1976"
         ],
         "xaxis": "x",
         "y": [
          1
         ],
         "yaxis": "y"
        },
        {
         "alignmentgroup": "True",
         "hovertemplate": "Candidate=%{text}<br>Election Year=%{x}<br>Number of States=%{y}<extra></extra>",
         "legendgroup": "MCCARTHY, EUGENE \"\"GENE\"\"",
         "marker": {
          "color": "rgb(29, 105, 150)",
          "pattern": {
           "shape": ""
          }
         },
         "name": "MCCARTHY, EUGENE \"\"GENE\"\"",
         "offsetgroup": "MCCARTHY, EUGENE \"\"GENE\"\"",
         "orientation": "v",
         "showlegend": true,
         "text": [
          "MCCARTHY, EUGENE \"\"GENE\"\""
         ],
         "textposition": "auto",
         "type": "bar",
         "x": [
          "1976"
         ],
         "xaxis": "x",
         "y": [
          1
         ],
         "yaxis": "y"
        },
        {
         "alignmentgroup": "True",
         "hovertemplate": "Candidate=%{text}<br>Election Year=%{x}<br>Number of States=%{y}<extra></extra>",
         "legendgroup": "ANDERSON, JOHN B.",
         "marker": {
          "color": "rgb(56, 166, 165)",
          "pattern": {
           "shape": ""
          }
         },
         "name": "ANDERSON, JOHN B.",
         "offsetgroup": "ANDERSON, JOHN B.",
         "orientation": "v",
         "showlegend": true,
         "text": [
          "ANDERSON, JOHN B."
         ],
         "textposition": "auto",
         "type": "bar",
         "x": [
          "1980"
         ],
         "xaxis": "x",
         "y": [
          41
         ],
         "yaxis": "y"
        },
        {
         "alignmentgroup": "True",
         "hovertemplate": "Candidate=%{text}<br>Election Year=%{x}<br>Number of States=%{y}<extra></extra>",
         "legendgroup": "CLARK, EDWARD \"\"ED\"\"",
         "marker": {
          "color": "rgb(15, 133, 84)",
          "pattern": {
           "shape": ""
          }
         },
         "name": "CLARK, EDWARD \"\"ED\"\"",
         "offsetgroup": "CLARK, EDWARD \"\"ED\"\"",
         "orientation": "v",
         "showlegend": true,
         "text": [
          "CLARK, EDWARD \"\"ED\"\""
         ],
         "textposition": "auto",
         "type": "bar",
         "x": [
          "1980"
         ],
         "xaxis": "x",
         "y": [
          1
         ],
         "yaxis": "y"
        },
        {
         "alignmentgroup": "True",
         "hovertemplate": "Candidate=%{text}<br>Election Year=%{x}<br>Number of States=%{y}<extra></extra>",
         "legendgroup": "BERGLAND, DAVID",
         "marker": {
          "color": "rgb(115, 175, 72)",
          "pattern": {
           "shape": ""
          }
         },
         "name": "BERGLAND, DAVID",
         "offsetgroup": "BERGLAND, DAVID",
         "orientation": "v",
         "showlegend": true,
         "text": [
          "BERGLAND, DAVID"
         ],
         "textposition": "auto",
         "type": "bar",
         "x": [
          "1984"
         ],
         "xaxis": "x",
         "y": [
          1
         ],
         "yaxis": "y"
        },
        {
         "alignmentgroup": "True",
         "hovertemplate": "Candidate=%{text}<br>Election Year=%{x}<br>Number of States=%{y}<extra></extra>",
         "legendgroup": "GRITZ, JAMES \"\"BO\"\"",
         "marker": {
          "color": "rgb(237, 173, 8)",
          "pattern": {
           "shape": ""
          }
         },
         "name": "GRITZ, JAMES \"\"BO\"\"",
         "offsetgroup": "GRITZ, JAMES \"\"BO\"\"",
         "orientation": "v",
         "showlegend": true,
         "text": [
          "GRITZ, JAMES \"\"BO\"\""
         ],
         "textposition": "auto",
         "type": "bar",
         "x": [
          "1992"
         ],
         "xaxis": "x",
         "y": [
          1
         ],
         "yaxis": "y"
        },
        {
         "alignmentgroup": "True",
         "hovertemplate": "Candidate=%{text}<br>Election Year=%{x}<br>Number of States=%{y}<extra></extra>",
         "legendgroup": "PEROT, ROSS",
         "marker": {
          "color": "rgb(225, 124, 5)",
          "pattern": {
           "shape": ""
          }
         },
         "name": "PEROT, ROSS",
         "offsetgroup": "PEROT, ROSS",
         "orientation": "v",
         "showlegend": true,
         "text": [
          "PEROT, ROSS",
          "PEROT, ROSS"
         ],
         "textposition": "auto",
         "type": "bar",
         "x": [
          "1992",
          "1996"
         ],
         "xaxis": "x",
         "y": [
          51,
          45
         ],
         "yaxis": "y"
        },
        {
         "alignmentgroup": "True",
         "hovertemplate": "Candidate=%{text}<br>Election Year=%{x}<br>Number of States=%{y}<extra></extra>",
         "legendgroup": "NADER, RALPH",
         "marker": {
          "color": "rgb(204, 80, 62)",
          "pattern": {
           "shape": ""
          }
         },
         "name": "NADER, RALPH",
         "offsetgroup": "NADER, RALPH",
         "orientation": "v",
         "showlegend": true,
         "text": [
          "NADER, RALPH",
          "NADER, RALPH"
         ],
         "textposition": "auto",
         "type": "bar",
         "x": [
          "1996",
          "2000"
         ],
         "xaxis": "x",
         "y": [
          2,
          20
         ],
         "yaxis": "y"
        },
        {
         "alignmentgroup": "True",
         "hovertemplate": "Candidate=%{text}<br>Election Year=%{x}<br>Number of States=%{y}<extra></extra>",
         "legendgroup": "JOHNSON, GARY",
         "marker": {
          "color": "rgb(148, 52, 110)",
          "pattern": {
           "shape": ""
          }
         },
         "name": "JOHNSON, GARY",
         "offsetgroup": "JOHNSON, GARY",
         "orientation": "v",
         "showlegend": true,
         "text": [
          "JOHNSON, GARY",
          "JOHNSON, GARY"
         ],
         "textposition": "auto",
         "type": "bar",
         "x": [
          "2012",
          "2016"
         ],
         "xaxis": "x",
         "y": [
          1,
          34
         ],
         "yaxis": "y"
        },
        {
         "alignmentgroup": "True",
         "hovertemplate": "Candidate=%{text}<br>Election Year=%{x}<br>Number of States=%{y}<extra></extra>",
         "legendgroup": "MCMULLIN, EVAN",
         "marker": {
          "color": "rgb(111, 64, 112)",
          "pattern": {
           "shape": ""
          }
         },
         "name": "MCMULLIN, EVAN",
         "offsetgroup": "MCMULLIN, EVAN",
         "orientation": "v",
         "showlegend": true,
         "text": [
          "MCMULLIN, EVAN"
         ],
         "textposition": "auto",
         "type": "bar",
         "x": [
          "2016"
         ],
         "xaxis": "x",
         "y": [
          2
         ],
         "yaxis": "y"
        }
       ],
       "layout": {
        "barmode": "relative",
        "height": 600,
        "legend": {
         "title": {
          "text": "Candidate"
         },
         "tracegroupgap": 0
        },
        "template": {
         "data": {
          "bar": [
           {
            "error_x": {
             "color": "#2a3f5f"
            },
            "error_y": {
             "color": "#2a3f5f"
            },
            "marker": {
             "line": {
              "color": "white",
              "width": 0.5
             },
             "pattern": {
              "fillmode": "overlay",
              "size": 10,
              "solidity": 0.2
             }
            },
            "type": "bar"
           }
          ],
          "barpolar": [
           {
            "marker": {
             "line": {
              "color": "white",
              "width": 0.5
             },
             "pattern": {
              "fillmode": "overlay",
              "size": 10,
              "solidity": 0.2
             }
            },
            "type": "barpolar"
           }
          ],
          "carpet": [
           {
            "aaxis": {
             "endlinecolor": "#2a3f5f",
             "gridcolor": "#C8D4E3",
             "linecolor": "#C8D4E3",
             "minorgridcolor": "#C8D4E3",
             "startlinecolor": "#2a3f5f"
            },
            "baxis": {
             "endlinecolor": "#2a3f5f",
             "gridcolor": "#C8D4E3",
             "linecolor": "#C8D4E3",
             "minorgridcolor": "#C8D4E3",
             "startlinecolor": "#2a3f5f"
            },
            "type": "carpet"
           }
          ],
          "choropleth": [
           {
            "colorbar": {
             "outlinewidth": 0,
             "ticks": ""
            },
            "type": "choropleth"
           }
          ],
          "contour": [
           {
            "colorbar": {
             "outlinewidth": 0,
             "ticks": ""
            },
            "colorscale": [
             [
              0,
              "#0d0887"
             ],
             [
              0.1111111111111111,
              "#46039f"
             ],
             [
              0.2222222222222222,
              "#7201a8"
             ],
             [
              0.3333333333333333,
              "#9c179e"
             ],
             [
              0.4444444444444444,
              "#bd3786"
             ],
             [
              0.5555555555555556,
              "#d8576b"
             ],
             [
              0.6666666666666666,
              "#ed7953"
             ],
             [
              0.7777777777777778,
              "#fb9f3a"
             ],
             [
              0.8888888888888888,
              "#fdca26"
             ],
             [
              1,
              "#f0f921"
             ]
            ],
            "type": "contour"
           }
          ],
          "contourcarpet": [
           {
            "colorbar": {
             "outlinewidth": 0,
             "ticks": ""
            },
            "type": "contourcarpet"
           }
          ],
          "heatmap": [
           {
            "colorbar": {
             "outlinewidth": 0,
             "ticks": ""
            },
            "colorscale": [
             [
              0,
              "#0d0887"
             ],
             [
              0.1111111111111111,
              "#46039f"
             ],
             [
              0.2222222222222222,
              "#7201a8"
             ],
             [
              0.3333333333333333,
              "#9c179e"
             ],
             [
              0.4444444444444444,
              "#bd3786"
             ],
             [
              0.5555555555555556,
              "#d8576b"
             ],
             [
              0.6666666666666666,
              "#ed7953"
             ],
             [
              0.7777777777777778,
              "#fb9f3a"
             ],
             [
              0.8888888888888888,
              "#fdca26"
             ],
             [
              1,
              "#f0f921"
             ]
            ],
            "type": "heatmap"
           }
          ],
          "heatmapgl": [
           {
            "colorbar": {
             "outlinewidth": 0,
             "ticks": ""
            },
            "colorscale": [
             [
              0,
              "#0d0887"
             ],
             [
              0.1111111111111111,
              "#46039f"
             ],
             [
              0.2222222222222222,
              "#7201a8"
             ],
             [
              0.3333333333333333,
              "#9c179e"
             ],
             [
              0.4444444444444444,
              "#bd3786"
             ],
             [
              0.5555555555555556,
              "#d8576b"
             ],
             [
              0.6666666666666666,
              "#ed7953"
             ],
             [
              0.7777777777777778,
              "#fb9f3a"
             ],
             [
              0.8888888888888888,
              "#fdca26"
             ],
             [
              1,
              "#f0f921"
             ]
            ],
            "type": "heatmapgl"
           }
          ],
          "histogram": [
           {
            "marker": {
             "pattern": {
              "fillmode": "overlay",
              "size": 10,
              "solidity": 0.2
             }
            },
            "type": "histogram"
           }
          ],
          "histogram2d": [
           {
            "colorbar": {
             "outlinewidth": 0,
             "ticks": ""
            },
            "colorscale": [
             [
              0,
              "#0d0887"
             ],
             [
              0.1111111111111111,
              "#46039f"
             ],
             [
              0.2222222222222222,
              "#7201a8"
             ],
             [
              0.3333333333333333,
              "#9c179e"
             ],
             [
              0.4444444444444444,
              "#bd3786"
             ],
             [
              0.5555555555555556,
              "#d8576b"
             ],
             [
              0.6666666666666666,
              "#ed7953"
             ],
             [
              0.7777777777777778,
              "#fb9f3a"
             ],
             [
              0.8888888888888888,
              "#fdca26"
             ],
             [
              1,
              "#f0f921"
             ]
            ],
            "type": "histogram2d"
           }
          ],
          "histogram2dcontour": [
           {
            "colorbar": {
             "outlinewidth": 0,
             "ticks": ""
            },
            "colorscale": [
             [
              0,
              "#0d0887"
             ],
             [
              0.1111111111111111,
              "#46039f"
             ],
             [
              0.2222222222222222,
              "#7201a8"
             ],
             [
              0.3333333333333333,
              "#9c179e"
             ],
             [
              0.4444444444444444,
              "#bd3786"
             ],
             [
              0.5555555555555556,
              "#d8576b"
             ],
             [
              0.6666666666666666,
              "#ed7953"
             ],
             [
              0.7777777777777778,
              "#fb9f3a"
             ],
             [
              0.8888888888888888,
              "#fdca26"
             ],
             [
              1,
              "#f0f921"
             ]
            ],
            "type": "histogram2dcontour"
           }
          ],
          "mesh3d": [
           {
            "colorbar": {
             "outlinewidth": 0,
             "ticks": ""
            },
            "type": "mesh3d"
           }
          ],
          "parcoords": [
           {
            "line": {
             "colorbar": {
              "outlinewidth": 0,
              "ticks": ""
             }
            },
            "type": "parcoords"
           }
          ],
          "pie": [
           {
            "automargin": true,
            "type": "pie"
           }
          ],
          "scatter": [
           {
            "fillpattern": {
             "fillmode": "overlay",
             "size": 10,
             "solidity": 0.2
            },
            "type": "scatter"
           }
          ],
          "scatter3d": [
           {
            "line": {
             "colorbar": {
              "outlinewidth": 0,
              "ticks": ""
             }
            },
            "marker": {
             "colorbar": {
              "outlinewidth": 0,
              "ticks": ""
             }
            },
            "type": "scatter3d"
           }
          ],
          "scattercarpet": [
           {
            "marker": {
             "colorbar": {
              "outlinewidth": 0,
              "ticks": ""
             }
            },
            "type": "scattercarpet"
           }
          ],
          "scattergeo": [
           {
            "marker": {
             "colorbar": {
              "outlinewidth": 0,
              "ticks": ""
             }
            },
            "type": "scattergeo"
           }
          ],
          "scattergl": [
           {
            "marker": {
             "colorbar": {
              "outlinewidth": 0,
              "ticks": ""
             }
            },
            "type": "scattergl"
           }
          ],
          "scattermapbox": [
           {
            "marker": {
             "colorbar": {
              "outlinewidth": 0,
              "ticks": ""
             }
            },
            "type": "scattermapbox"
           }
          ],
          "scatterpolar": [
           {
            "marker": {
             "colorbar": {
              "outlinewidth": 0,
              "ticks": ""
             }
            },
            "type": "scatterpolar"
           }
          ],
          "scatterpolargl": [
           {
            "marker": {
             "colorbar": {
              "outlinewidth": 0,
              "ticks": ""
             }
            },
            "type": "scatterpolargl"
           }
          ],
          "scatterternary": [
           {
            "marker": {
             "colorbar": {
              "outlinewidth": 0,
              "ticks": ""
             }
            },
            "type": "scatterternary"
           }
          ],
          "surface": [
           {
            "colorbar": {
             "outlinewidth": 0,
             "ticks": ""
            },
            "colorscale": [
             [
              0,
              "#0d0887"
             ],
             [
              0.1111111111111111,
              "#46039f"
             ],
             [
              0.2222222222222222,
              "#7201a8"
             ],
             [
              0.3333333333333333,
              "#9c179e"
             ],
             [
              0.4444444444444444,
              "#bd3786"
             ],
             [
              0.5555555555555556,
              "#d8576b"
             ],
             [
              0.6666666666666666,
              "#ed7953"
             ],
             [
              0.7777777777777778,
              "#fb9f3a"
             ],
             [
              0.8888888888888888,
              "#fdca26"
             ],
             [
              1,
              "#f0f921"
             ]
            ],
            "type": "surface"
           }
          ],
          "table": [
           {
            "cells": {
             "fill": {
              "color": "#EBF0F8"
             },
             "line": {
              "color": "white"
             }
            },
            "header": {
             "fill": {
              "color": "#C8D4E3"
             },
             "line": {
              "color": "white"
             }
            },
            "type": "table"
           }
          ]
         },
         "layout": {
          "annotationdefaults": {
           "arrowcolor": "#2a3f5f",
           "arrowhead": 0,
           "arrowwidth": 1
          },
          "autotypenumbers": "strict",
          "coloraxis": {
           "colorbar": {
            "outlinewidth": 0,
            "ticks": ""
           }
          },
          "colorscale": {
           "diverging": [
            [
             0,
             "#8e0152"
            ],
            [
             0.1,
             "#c51b7d"
            ],
            [
             0.2,
             "#de77ae"
            ],
            [
             0.3,
             "#f1b6da"
            ],
            [
             0.4,
             "#fde0ef"
            ],
            [
             0.5,
             "#f7f7f7"
            ],
            [
             0.6,
             "#e6f5d0"
            ],
            [
             0.7,
             "#b8e186"
            ],
            [
             0.8,
             "#7fbc41"
            ],
            [
             0.9,
             "#4d9221"
            ],
            [
             1,
             "#276419"
            ]
           ],
           "sequential": [
            [
             0,
             "#0d0887"
            ],
            [
             0.1111111111111111,
             "#46039f"
            ],
            [
             0.2222222222222222,
             "#7201a8"
            ],
            [
             0.3333333333333333,
             "#9c179e"
            ],
            [
             0.4444444444444444,
             "#bd3786"
            ],
            [
             0.5555555555555556,
             "#d8576b"
            ],
            [
             0.6666666666666666,
             "#ed7953"
            ],
            [
             0.7777777777777778,
             "#fb9f3a"
            ],
            [
             0.8888888888888888,
             "#fdca26"
            ],
            [
             1,
             "#f0f921"
            ]
           ],
           "sequentialminus": [
            [
             0,
             "#0d0887"
            ],
            [
             0.1111111111111111,
             "#46039f"
            ],
            [
             0.2222222222222222,
             "#7201a8"
            ],
            [
             0.3333333333333333,
             "#9c179e"
            ],
            [
             0.4444444444444444,
             "#bd3786"
            ],
            [
             0.5555555555555556,
             "#d8576b"
            ],
            [
             0.6666666666666666,
             "#ed7953"
            ],
            [
             0.7777777777777778,
             "#fb9f3a"
            ],
            [
             0.8888888888888888,
             "#fdca26"
            ],
            [
             1,
             "#f0f921"
            ]
           ]
          },
          "colorway": [
           "#636efa",
           "#EF553B",
           "#00cc96",
           "#ab63fa",
           "#FFA15A",
           "#19d3f3",
           "#FF6692",
           "#B6E880",
           "#FF97FF",
           "#FECB52"
          ],
          "font": {
           "color": "#2a3f5f"
          },
          "geo": {
           "bgcolor": "white",
           "lakecolor": "white",
           "landcolor": "white",
           "showlakes": true,
           "showland": true,
           "subunitcolor": "#C8D4E3"
          },
          "hoverlabel": {
           "align": "left"
          },
          "hovermode": "closest",
          "mapbox": {
           "style": "light"
          },
          "paper_bgcolor": "white",
          "plot_bgcolor": "white",
          "polar": {
           "angularaxis": {
            "gridcolor": "#EBF0F8",
            "linecolor": "#EBF0F8",
            "ticks": ""
           },
           "bgcolor": "white",
           "radialaxis": {
            "gridcolor": "#EBF0F8",
            "linecolor": "#EBF0F8",
            "ticks": ""
           }
          },
          "scene": {
           "xaxis": {
            "backgroundcolor": "white",
            "gridcolor": "#DFE8F3",
            "gridwidth": 2,
            "linecolor": "#EBF0F8",
            "showbackground": true,
            "ticks": "",
            "zerolinecolor": "#EBF0F8"
           },
           "yaxis": {
            "backgroundcolor": "white",
            "gridcolor": "#DFE8F3",
            "gridwidth": 2,
            "linecolor": "#EBF0F8",
            "showbackground": true,
            "ticks": "",
            "zerolinecolor": "#EBF0F8"
           },
           "zaxis": {
            "backgroundcolor": "white",
            "gridcolor": "#DFE8F3",
            "gridwidth": 2,
            "linecolor": "#EBF0F8",
            "showbackground": true,
            "ticks": "",
            "zerolinecolor": "#EBF0F8"
           }
          },
          "shapedefaults": {
           "line": {
            "color": "#2a3f5f"
           }
          },
          "ternary": {
           "aaxis": {
            "gridcolor": "#DFE8F3",
            "linecolor": "#A2B1C6",
            "ticks": ""
           },
           "baxis": {
            "gridcolor": "#DFE8F3",
            "linecolor": "#A2B1C6",
            "ticks": ""
           },
           "bgcolor": "white",
           "caxis": {
            "gridcolor": "#DFE8F3",
            "linecolor": "#A2B1C6",
            "ticks": ""
           }
          },
          "title": {
           "x": 0.05
          },
          "xaxis": {
           "automargin": true,
           "gridcolor": "#EBF0F8",
           "linecolor": "#EBF0F8",
           "ticks": "",
           "title": {
            "standoff": 15
           },
           "zerolinecolor": "#EBF0F8",
           "zerolinewidth": 2
          },
          "yaxis": {
           "automargin": true,
           "gridcolor": "#EBF0F8",
           "linecolor": "#EBF0F8",
           "ticks": "",
           "title": {
            "standoff": 15
           },
           "zerolinecolor": "#EBF0F8",
           "zerolinewidth": 2
          }
         }
        },
        "title": {
         "text": "<b>Third Party Candidates That Received At Least 3% of Vote by Election Year</b><br><i>US Presidential Elections 1976 - 2020</i>"
        },
        "uniformtext": {
         "minsize": 10,
         "mode": "hide"
        },
        "xaxis": {
         "anchor": "y",
         "domain": [
          0,
          1
         ],
         "title": {
          "text": "Election Year"
         }
        },
        "yaxis": {
         "anchor": "x",
         "domain": [
          0,
          1
         ],
         "title": {
          "text": "Number of States"
         }
        }
       }
      }
     },
     "metadata": {},
     "output_type": "display_data"
    }
   ],
   "source": [
    "px.bar(\n",
    "    data_frame = third_party_df. \\\n",
    "        group_by([\"year\", \"candidate\"]).len(). \\\n",
    "        sort([\"year\", \"candidate\"]). \\\n",
    "        with_columns(pl.col(\"year\").cast(pl.Utf8)), \n",
    "    x = \"year\", \n",
    "    y = \"len\", \n",
    "    color = \"candidate\", \n",
    "    text = \"candidate\",\n",
    "    title = \"<b>Third Party Candidates That Received At Least 3% of Vote by Election Year</b><br><i>US Presidential Elections 1976 - 2020</i>\",\n",
    "    labels = {\"len\": \"Number of States\", \"year\": \"Election Year\", \"candidate\": \"Candidate\"},\n",
    "    color_discrete_sequence = px.colors.qualitative.Prism,\n",
    "    height = 600,\n",
    ").update_layout(uniformtext_minsize = 10, uniformtext_mode = \"hide\")"
   ]
  },
  {
   "cell_type": "code",
   "execution_count": 44,
   "metadata": {},
   "outputs": [
    {
     "data": {
      "application/vnd.plotly.v1+json": {
       "config": {
        "plotlyServerURL": "https://plot.ly"
       },
       "data": [
        {
         "coloraxis": "coloraxis",
         "geo": "geo",
         "geojson": "https://raw.githubusercontent.com/plotly/datasets/master/geojson-counties-fips.json",
         "hovertemplate": "state_po=%{location}<br>len=%{z}<extra></extra>",
         "locationmode": "USA-states",
         "locations": [
          "MS",
          "AL",
          "TN",
          "NC",
          "KY",
          "NJ",
          "SC",
          "AR",
          "LA",
          "TX",
          "GA",
          "DC",
          "MD",
          "VA",
          "FL",
          "OH",
          "PA",
          "SD",
          "WV",
          "AZ",
          "MO",
          "KS",
          "MI",
          "OK",
          "ID",
          "IN",
          "WY",
          "IL",
          "ND",
          "IA",
          "NY",
          "DE",
          "NV",
          "CT",
          "NH",
          "HI",
          "MT",
          "WA",
          "UT",
          "ME",
          "MN",
          "CA",
          "RI",
          "CO",
          "NE",
          "MA",
          "VT",
          "WI",
          "OR",
          "NM",
          "AK"
         ],
         "name": "",
         "type": "choropleth",
         "z": [
          1,
          1,
          1,
          2,
          2,
          2,
          2,
          2,
          2,
          3,
          3,
          3,
          3,
          3,
          3,
          3,
          3,
          3,
          4,
          4,
          4,
          4,
          4,
          4,
          4,
          4,
          4,
          4,
          4,
          4,
          4,
          4,
          4,
          4,
          5,
          5,
          5,
          5,
          5,
          5,
          5,
          5,
          5,
          5,
          5,
          5,
          5,
          5,
          6,
          6,
          7
         ]
        }
       ],
       "layout": {
        "coloraxis": {
         "colorbar": {
          "title": {
           "text": "len"
          }
         },
         "colorscale": [
          [
           0,
           "rgb(160,200,255)"
          ],
          [
           0.25,
           "rgb(255,255,255)"
          ],
          [
           0.5,
           "rgb(230,210,0)"
          ],
          [
           0.75,
           "rgb(230,0,0)"
          ],
          [
           1,
           "rgb(0,0,0)"
          ]
         ]
        },
        "geo": {
         "center": {},
         "domain": {
          "x": [
           0,
           1
          ],
          "y": [
           0,
           1
          ]
         },
         "scope": "usa"
        },
        "height": 600,
        "legend": {
         "tracegroupgap": 0
        },
        "template": {
         "data": {
          "bar": [
           {
            "error_x": {
             "color": "#2a3f5f"
            },
            "error_y": {
             "color": "#2a3f5f"
            },
            "marker": {
             "line": {
              "color": "white",
              "width": 0.5
             },
             "pattern": {
              "fillmode": "overlay",
              "size": 10,
              "solidity": 0.2
             }
            },
            "type": "bar"
           }
          ],
          "barpolar": [
           {
            "marker": {
             "line": {
              "color": "white",
              "width": 0.5
             },
             "pattern": {
              "fillmode": "overlay",
              "size": 10,
              "solidity": 0.2
             }
            },
            "type": "barpolar"
           }
          ],
          "carpet": [
           {
            "aaxis": {
             "endlinecolor": "#2a3f5f",
             "gridcolor": "#C8D4E3",
             "linecolor": "#C8D4E3",
             "minorgridcolor": "#C8D4E3",
             "startlinecolor": "#2a3f5f"
            },
            "baxis": {
             "endlinecolor": "#2a3f5f",
             "gridcolor": "#C8D4E3",
             "linecolor": "#C8D4E3",
             "minorgridcolor": "#C8D4E3",
             "startlinecolor": "#2a3f5f"
            },
            "type": "carpet"
           }
          ],
          "choropleth": [
           {
            "colorbar": {
             "outlinewidth": 0,
             "ticks": ""
            },
            "type": "choropleth"
           }
          ],
          "contour": [
           {
            "colorbar": {
             "outlinewidth": 0,
             "ticks": ""
            },
            "colorscale": [
             [
              0,
              "#0d0887"
             ],
             [
              0.1111111111111111,
              "#46039f"
             ],
             [
              0.2222222222222222,
              "#7201a8"
             ],
             [
              0.3333333333333333,
              "#9c179e"
             ],
             [
              0.4444444444444444,
              "#bd3786"
             ],
             [
              0.5555555555555556,
              "#d8576b"
             ],
             [
              0.6666666666666666,
              "#ed7953"
             ],
             [
              0.7777777777777778,
              "#fb9f3a"
             ],
             [
              0.8888888888888888,
              "#fdca26"
             ],
             [
              1,
              "#f0f921"
             ]
            ],
            "type": "contour"
           }
          ],
          "contourcarpet": [
           {
            "colorbar": {
             "outlinewidth": 0,
             "ticks": ""
            },
            "type": "contourcarpet"
           }
          ],
          "heatmap": [
           {
            "colorbar": {
             "outlinewidth": 0,
             "ticks": ""
            },
            "colorscale": [
             [
              0,
              "#0d0887"
             ],
             [
              0.1111111111111111,
              "#46039f"
             ],
             [
              0.2222222222222222,
              "#7201a8"
             ],
             [
              0.3333333333333333,
              "#9c179e"
             ],
             [
              0.4444444444444444,
              "#bd3786"
             ],
             [
              0.5555555555555556,
              "#d8576b"
             ],
             [
              0.6666666666666666,
              "#ed7953"
             ],
             [
              0.7777777777777778,
              "#fb9f3a"
             ],
             [
              0.8888888888888888,
              "#fdca26"
             ],
             [
              1,
              "#f0f921"
             ]
            ],
            "type": "heatmap"
           }
          ],
          "heatmapgl": [
           {
            "colorbar": {
             "outlinewidth": 0,
             "ticks": ""
            },
            "colorscale": [
             [
              0,
              "#0d0887"
             ],
             [
              0.1111111111111111,
              "#46039f"
             ],
             [
              0.2222222222222222,
              "#7201a8"
             ],
             [
              0.3333333333333333,
              "#9c179e"
             ],
             [
              0.4444444444444444,
              "#bd3786"
             ],
             [
              0.5555555555555556,
              "#d8576b"
             ],
             [
              0.6666666666666666,
              "#ed7953"
             ],
             [
              0.7777777777777778,
              "#fb9f3a"
             ],
             [
              0.8888888888888888,
              "#fdca26"
             ],
             [
              1,
              "#f0f921"
             ]
            ],
            "type": "heatmapgl"
           }
          ],
          "histogram": [
           {
            "marker": {
             "pattern": {
              "fillmode": "overlay",
              "size": 10,
              "solidity": 0.2
             }
            },
            "type": "histogram"
           }
          ],
          "histogram2d": [
           {
            "colorbar": {
             "outlinewidth": 0,
             "ticks": ""
            },
            "colorscale": [
             [
              0,
              "#0d0887"
             ],
             [
              0.1111111111111111,
              "#46039f"
             ],
             [
              0.2222222222222222,
              "#7201a8"
             ],
             [
              0.3333333333333333,
              "#9c179e"
             ],
             [
              0.4444444444444444,
              "#bd3786"
             ],
             [
              0.5555555555555556,
              "#d8576b"
             ],
             [
              0.6666666666666666,
              "#ed7953"
             ],
             [
              0.7777777777777778,
              "#fb9f3a"
             ],
             [
              0.8888888888888888,
              "#fdca26"
             ],
             [
              1,
              "#f0f921"
             ]
            ],
            "type": "histogram2d"
           }
          ],
          "histogram2dcontour": [
           {
            "colorbar": {
             "outlinewidth": 0,
             "ticks": ""
            },
            "colorscale": [
             [
              0,
              "#0d0887"
             ],
             [
              0.1111111111111111,
              "#46039f"
             ],
             [
              0.2222222222222222,
              "#7201a8"
             ],
             [
              0.3333333333333333,
              "#9c179e"
             ],
             [
              0.4444444444444444,
              "#bd3786"
             ],
             [
              0.5555555555555556,
              "#d8576b"
             ],
             [
              0.6666666666666666,
              "#ed7953"
             ],
             [
              0.7777777777777778,
              "#fb9f3a"
             ],
             [
              0.8888888888888888,
              "#fdca26"
             ],
             [
              1,
              "#f0f921"
             ]
            ],
            "type": "histogram2dcontour"
           }
          ],
          "mesh3d": [
           {
            "colorbar": {
             "outlinewidth": 0,
             "ticks": ""
            },
            "type": "mesh3d"
           }
          ],
          "parcoords": [
           {
            "line": {
             "colorbar": {
              "outlinewidth": 0,
              "ticks": ""
             }
            },
            "type": "parcoords"
           }
          ],
          "pie": [
           {
            "automargin": true,
            "type": "pie"
           }
          ],
          "scatter": [
           {
            "fillpattern": {
             "fillmode": "overlay",
             "size": 10,
             "solidity": 0.2
            },
            "type": "scatter"
           }
          ],
          "scatter3d": [
           {
            "line": {
             "colorbar": {
              "outlinewidth": 0,
              "ticks": ""
             }
            },
            "marker": {
             "colorbar": {
              "outlinewidth": 0,
              "ticks": ""
             }
            },
            "type": "scatter3d"
           }
          ],
          "scattercarpet": [
           {
            "marker": {
             "colorbar": {
              "outlinewidth": 0,
              "ticks": ""
             }
            },
            "type": "scattercarpet"
           }
          ],
          "scattergeo": [
           {
            "marker": {
             "colorbar": {
              "outlinewidth": 0,
              "ticks": ""
             }
            },
            "type": "scattergeo"
           }
          ],
          "scattergl": [
           {
            "marker": {
             "colorbar": {
              "outlinewidth": 0,
              "ticks": ""
             }
            },
            "type": "scattergl"
           }
          ],
          "scattermapbox": [
           {
            "marker": {
             "colorbar": {
              "outlinewidth": 0,
              "ticks": ""
             }
            },
            "type": "scattermapbox"
           }
          ],
          "scatterpolar": [
           {
            "marker": {
             "colorbar": {
              "outlinewidth": 0,
              "ticks": ""
             }
            },
            "type": "scatterpolar"
           }
          ],
          "scatterpolargl": [
           {
            "marker": {
             "colorbar": {
              "outlinewidth": 0,
              "ticks": ""
             }
            },
            "type": "scatterpolargl"
           }
          ],
          "scatterternary": [
           {
            "marker": {
             "colorbar": {
              "outlinewidth": 0,
              "ticks": ""
             }
            },
            "type": "scatterternary"
           }
          ],
          "surface": [
           {
            "colorbar": {
             "outlinewidth": 0,
             "ticks": ""
            },
            "colorscale": [
             [
              0,
              "#0d0887"
             ],
             [
              0.1111111111111111,
              "#46039f"
             ],
             [
              0.2222222222222222,
              "#7201a8"
             ],
             [
              0.3333333333333333,
              "#9c179e"
             ],
             [
              0.4444444444444444,
              "#bd3786"
             ],
             [
              0.5555555555555556,
              "#d8576b"
             ],
             [
              0.6666666666666666,
              "#ed7953"
             ],
             [
              0.7777777777777778,
              "#fb9f3a"
             ],
             [
              0.8888888888888888,
              "#fdca26"
             ],
             [
              1,
              "#f0f921"
             ]
            ],
            "type": "surface"
           }
          ],
          "table": [
           {
            "cells": {
             "fill": {
              "color": "#EBF0F8"
             },
             "line": {
              "color": "white"
             }
            },
            "header": {
             "fill": {
              "color": "#C8D4E3"
             },
             "line": {
              "color": "white"
             }
            },
            "type": "table"
           }
          ]
         },
         "layout": {
          "annotationdefaults": {
           "arrowcolor": "#2a3f5f",
           "arrowhead": 0,
           "arrowwidth": 1
          },
          "autotypenumbers": "strict",
          "coloraxis": {
           "colorbar": {
            "outlinewidth": 0,
            "ticks": ""
           }
          },
          "colorscale": {
           "diverging": [
            [
             0,
             "#8e0152"
            ],
            [
             0.1,
             "#c51b7d"
            ],
            [
             0.2,
             "#de77ae"
            ],
            [
             0.3,
             "#f1b6da"
            ],
            [
             0.4,
             "#fde0ef"
            ],
            [
             0.5,
             "#f7f7f7"
            ],
            [
             0.6,
             "#e6f5d0"
            ],
            [
             0.7,
             "#b8e186"
            ],
            [
             0.8,
             "#7fbc41"
            ],
            [
             0.9,
             "#4d9221"
            ],
            [
             1,
             "#276419"
            ]
           ],
           "sequential": [
            [
             0,
             "#0d0887"
            ],
            [
             0.1111111111111111,
             "#46039f"
            ],
            [
             0.2222222222222222,
             "#7201a8"
            ],
            [
             0.3333333333333333,
             "#9c179e"
            ],
            [
             0.4444444444444444,
             "#bd3786"
            ],
            [
             0.5555555555555556,
             "#d8576b"
            ],
            [
             0.6666666666666666,
             "#ed7953"
            ],
            [
             0.7777777777777778,
             "#fb9f3a"
            ],
            [
             0.8888888888888888,
             "#fdca26"
            ],
            [
             1,
             "#f0f921"
            ]
           ],
           "sequentialminus": [
            [
             0,
             "#0d0887"
            ],
            [
             0.1111111111111111,
             "#46039f"
            ],
            [
             0.2222222222222222,
             "#7201a8"
            ],
            [
             0.3333333333333333,
             "#9c179e"
            ],
            [
             0.4444444444444444,
             "#bd3786"
            ],
            [
             0.5555555555555556,
             "#d8576b"
            ],
            [
             0.6666666666666666,
             "#ed7953"
            ],
            [
             0.7777777777777778,
             "#fb9f3a"
            ],
            [
             0.8888888888888888,
             "#fdca26"
            ],
            [
             1,
             "#f0f921"
            ]
           ]
          },
          "colorway": [
           "#636efa",
           "#EF553B",
           "#00cc96",
           "#ab63fa",
           "#FFA15A",
           "#19d3f3",
           "#FF6692",
           "#B6E880",
           "#FF97FF",
           "#FECB52"
          ],
          "font": {
           "color": "#2a3f5f"
          },
          "geo": {
           "bgcolor": "white",
           "lakecolor": "white",
           "landcolor": "white",
           "showlakes": true,
           "showland": true,
           "subunitcolor": "#C8D4E3"
          },
          "hoverlabel": {
           "align": "left"
          },
          "hovermode": "closest",
          "mapbox": {
           "style": "light"
          },
          "paper_bgcolor": "white",
          "plot_bgcolor": "white",
          "polar": {
           "angularaxis": {
            "gridcolor": "#EBF0F8",
            "linecolor": "#EBF0F8",
            "ticks": ""
           },
           "bgcolor": "white",
           "radialaxis": {
            "gridcolor": "#EBF0F8",
            "linecolor": "#EBF0F8",
            "ticks": ""
           }
          },
          "scene": {
           "xaxis": {
            "backgroundcolor": "white",
            "gridcolor": "#DFE8F3",
            "gridwidth": 2,
            "linecolor": "#EBF0F8",
            "showbackground": true,
            "ticks": "",
            "zerolinecolor": "#EBF0F8"
           },
           "yaxis": {
            "backgroundcolor": "white",
            "gridcolor": "#DFE8F3",
            "gridwidth": 2,
            "linecolor": "#EBF0F8",
            "showbackground": true,
            "ticks": "",
            "zerolinecolor": "#EBF0F8"
           },
           "zaxis": {
            "backgroundcolor": "white",
            "gridcolor": "#DFE8F3",
            "gridwidth": 2,
            "linecolor": "#EBF0F8",
            "showbackground": true,
            "ticks": "",
            "zerolinecolor": "#EBF0F8"
           }
          },
          "shapedefaults": {
           "line": {
            "color": "#2a3f5f"
           }
          },
          "ternary": {
           "aaxis": {
            "gridcolor": "#DFE8F3",
            "linecolor": "#A2B1C6",
            "ticks": ""
           },
           "baxis": {
            "gridcolor": "#DFE8F3",
            "linecolor": "#A2B1C6",
            "ticks": ""
           },
           "bgcolor": "white",
           "caxis": {
            "gridcolor": "#DFE8F3",
            "linecolor": "#A2B1C6",
            "ticks": ""
           }
          },
          "title": {
           "x": 0.05
          },
          "xaxis": {
           "automargin": true,
           "gridcolor": "#EBF0F8",
           "linecolor": "#EBF0F8",
           "ticks": "",
           "title": {
            "standoff": 15
           },
           "zerolinecolor": "#EBF0F8",
           "zerolinewidth": 2
          },
          "yaxis": {
           "automargin": true,
           "gridcolor": "#EBF0F8",
           "linecolor": "#EBF0F8",
           "ticks": "",
           "title": {
            "standoff": 15
           },
           "zerolinecolor": "#EBF0F8",
           "zerolinewidth": 2
          }
         }
        },
        "title": {
         "text": "<b>Number of Elections Where Third Party Candidate Received At Least 3% of Vote</b><br><i>US Presidential Elections 1976 - 2020</i>"
        }
       }
      }
     },
     "metadata": {},
     "output_type": "display_data"
    }
   ],
   "source": [
    "px.choropleth(\n",
    "    data_frame = third_party_df. \\\n",
    "        group_by([\"year\", \"state\", \"state_po\"]).len(). \\\n",
    "        group_by([\"state\", \"state_po\"]).len(). \\\n",
    "        sort(\"len\"). \\\n",
    "        with_columns(pl.col(\"len\").cast(pl.Float64)),\n",
    "    geojson = \"https://raw.githubusercontent.com/plotly/datasets/master/geojson-counties-fips.json\",\n",
    "    locationmode = \"USA-states\",\n",
    "    locations = \"state_po\",\n",
    "    color = \"len\",\n",
    "    color_continuous_scale = px.colors.sequential.Blackbody[::-1],\n",
    "    scope = \"usa\",\n",
    "    height = 600,\n",
    "    title = \"<b>Number of Elections Where Third Party Candidate Received At Least 3% of Vote</b><br><i>US Presidential Elections 1976 - 2020</i>\"\n",
    ")"
   ]
  },
  {
   "cell_type": "code",
   "execution_count": null,
   "metadata": {},
   "outputs": [],
   "source": []
  }
 ],
 "metadata": {
  "kernelspec": {
   "display_name": "Python 3",
   "language": "python",
   "name": "python3"
  },
  "language_info": {
   "codemirror_mode": {
    "name": "ipython",
    "version": 3
   },
   "file_extension": ".py",
   "mimetype": "text/x-python",
   "name": "python",
   "nbconvert_exporter": "python",
   "pygments_lexer": "ipython3",
   "version": "3.12.5"
  }
 },
 "nbformat": 4,
 "nbformat_minor": 2
}
